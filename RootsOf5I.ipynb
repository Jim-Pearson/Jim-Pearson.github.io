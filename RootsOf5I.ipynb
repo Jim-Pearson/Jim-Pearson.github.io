{
 "cells": [
  {
   "cell_type": "markdown",
   "id": "2f3dd718-1f97-467f-9a64-c2f0522dbb52",
   "metadata": {},
   "source": [
    "$\\newcommand{\\pb}[0]{\\overline{\\phi}}$\n",
    "$\\newcommand{\\cb}[0]{\\overline{C}}$\n",
    "$\\newcommand{\\pbn}[1]{\\pb\\vphantom{\\phi}^{#1}}$\n",
    "$\\newcommand{\\Pb}[0]{\\overline{\\Phi}}$\n",
    "$\\newcommand{\\Pbn}[1]{\\Pb^{#1}}$\n",
    "# Matrix Square Roots and Related Fibonacci Matrices\n",
    "\n",
    "## Fibonacci and Lucas Sequences\n",
    "\n",
    "The Fibonacci sequence $1, 1, 2, 3, 5, 8...$ is defined by setting the first two values to $1$ and thereafter setting each member of the sequence equal to the sum of the two values just before it. The definition can be extended to include values before the initial two $1$s. Formally, if we denote the $n^{th}$ member of the sequence as $F_n$,   \n",
    "\n",
    "$$ F_1=1, F_2=1, \\text{ and } F_n = F_{n-1} + F_{n-2} \\text{ for all integers }n$$\n",
    "\n",
    "So that the series is double-ended and looks like:  \n",
    "\n",
    "$$...5, -3, 2, -1, 1, 0, 1, 1, 2, 3, 5...$$  \n",
    "\n",
    "A related sequence is the Lucas numbers which can be defined $L_n=F_{n-1}+F_{n+1}$ and looks like:  \n",
    "\n",
    "$$...-11, 7, -4, 3, -1, 2, 1, 3, 4, 7, 11...$$  \n",
    "\n",
    "## Fibonacci, Lucas, and the Golden Ratio $\\phi$\n",
    "\n",
    "The Fibonacci sequence famously relates to the golden ratio $\\phi = \\frac{1+\\sqrt 5}{2}$ in the following way:  \n",
    "\n",
    "$$ \\lim_{n \\rightarrow \\infty} \\frac{F_{n+1}}{F_n} = \\phi $$  \n",
    "\n",
    "In words, the ratio of successive Fibonacci numbers tends to the golden ratio $\\phi$. The same can be said of the Lucas numbers:  \n",
    "\n",
    "$$ \\lim_{n \\rightarrow \\infty} \\frac{L_{n+1}}{L_n} = \\phi $$\n",
    "\n",
    "But the relationships among the golden ratio and the two sequences run much deeper. Let's denote the rational conjugate of $\\phi$ as $\\pb=\\frac{1 - \\sqrt 5}{2}$. Here is a list of some of the most important properties among $\\phi$, $\\pb$, $F_n$, and $L_n$:  \n",
    "\n",
    "$$\\begin{align} \\phi &= \\frac{1+\\sqrt 5}{2} && \\pb = \\frac{1-\\sqrt 5}{2}\\end{align} \\\\[5pt] $$\n",
    "$$\\begin{align} &\\phi + \\pb = 1 && \\quad \\phi - \\pb = \\sqrt 5 &&&& \\phi \\times \\pb = -1 \\end{align}\\\\[5pt]$$\n",
    "$$\\begin{align}\n",
    "\\phi^n &= \\frac{L_n+F_n\\sqrt 5}{2} && \\pbn{n} = \\frac{L_n-F_n\\sqrt 5}{2} \\\\[5pt]\n",
    "L_n &= \\phi^n + \\pbn{n} && F_n = \\frac{\\phi^n - \\pbn{n}}{\\sqrt 5} \\\\[5pt]\n",
    "\\end{align}$$\n",
    "$$\\begin{align} \\phi^n &= F_n \\cdot \\phi + F_{n-1}  &&\\pbn{n} = F_n \\cdot \\pb + F_{n-1} \\end{align}$$\n",
    "\n",
    "I won't write here much explanation for the properties above, but notice that the list includes explicit formulas for calculating Lucas and Fibonacci numbers using powers of $\\phi$ and $\\pb$. The list also shows more than one way to express powers of $\\phi$ and $\\pb$ using Lucas and/or Fibonacci numbers.  \n",
    "\n",
    "## Matrix Roots and Matrices $\\Phi$ and $\\Pb$\n",
    "\n",
    "Note that the expressions for $\\phi$ and $\\pb$ above rely on $\\sqrt 5$. In the realm of scalar numbers, $\\pm \\sqrt 5$ are the only square roots of $5$. Let's shift focus to matrices. Let $I$ denote the $2 \\times 2$ identity matrix, $I = \n",
    "\\left[ \\begin{matrix}\n",
    "1 & 0 \\\\\n",
    "0 & 1\n",
    "\\end{matrix} \\right]$. Then we can consider square roots of $5I$. There are infinitely many. Examples include:  \n",
    "\n",
    "$$ \\left[\\begin{matrix}\n",
    "\\sqrt 5 & 0\\\\\n",
    "0 & -\\sqrt 5\n",
    "\\end{matrix}\\right] \\quad\n",
    "\\left[\\begin{matrix}\n",
    "0 & 1\\\\\n",
    "5 & 0\n",
    "\\end{matrix}\\right] \\quad\n",
    "\\left[\\begin{matrix}\n",
    "2 & 1\\\\\n",
    "1 & -2\n",
    "\\end{matrix}\\right] \\quad\n",
    "\\left[\\begin{matrix}\n",
    "\\sqrt 8 & \\sqrt 3\\\\\n",
    "-\\sqrt 3 & -\\sqrt 8\n",
    "\\end{matrix}\\right]\n",
    "$$\n",
    "\n",
    "Let $R$ denote a square root of $5I$. Define $\\Phi=\\frac{I+R}{2}$ and $\\Pb=\\frac{I-R}{2}$. Remarkably, $\\Phi$ and $\\Pb$ thus defined mimic all the properties of $\\phi$ and $\\pb$ listed in the previous section:  \n",
    "\n",
    "$$\\begin{align} \\Phi &= \\frac{I+R}{2} && \\Pb = \\frac{I-R}{2}\\end{align} \\\\[5pt] $$\n",
    "$$\\begin{align} &\\Phi + \\Pb = I && \\quad \\Phi - \\Pb = R &&&& \\Phi \\times \\Pb = -I \\end{align}\\\\[5pt]$$\n",
    "$$\\begin{align}\n",
    "\\Phi^n &= \\frac{L_n\\cdot I+F_n\\cdot R}{2} && \\Pbn{n} = \\frac{L_n \\cdot I-F_n \\cdot R}{2} \\\\[5pt]\n",
    "L_n\\cdot I &= \\Phi ^n + \\Pbn{n} && F_n\\cdot I = (\\Phi^n - \\Pbn{n})R^{-1} \\\\[5pt]\n",
    "\\end{align}$$\n",
    "$$\\begin{align} \\Phi^n &= F_n \\cdot \\Phi + F_{n-1}\\cdot  I  &&\\Pbn{n} = F_n \\cdot \\Pb + F_{n-1} \\cdot I \\end{align}$$\n",
    "\n",
    "Furthermore, any such matrix $\\Phi=\\frac{I+R}{2}$ satisfies the matrix equation $X^2=X+I$. The converse is also true: Any $2 \\times 2$ matrix satisfying $X^2=X+I$ will be of the form $\\frac{I+R}{2}$.\n",
    "\n",
    "## $\\Phi$ for Specific Roots of $5I$\n",
    "\n",
    "The previous subsection discussed matrices of the form $\\Phi = \\frac{I+R}{2}$ where $R$ is a chosen matrix square root of $5I$. It tends to be the case that powers of $\\Phi$ contain Fibonacci numbers and/or related values such as Lucas numbers and powers of the golden ratio, so such a matrices $\\Phi$ could be called Fibonacci matrices. Some choices of $R$ lead to matrices $\\Phi$ with special properties. Let's review some examples.\n",
    "\n",
    "### Example 1\n",
    "\n",
    "Suppose $R = \\left[\\begin{matrix}\n",
    "1 & 2\\\\\n",
    "2 & -1\n",
    "\\end{matrix}\\right] $, so that $\\Phi = \\frac{I+R}{2} = \n",
    "\\left[\\begin{matrix}\n",
    "1 & 1\\\\\n",
    "1 & 0\n",
    "\\end{matrix}\\right] $.\n",
    "\n",
    "This is the Fibonacci matrix, Also known as the Fibonacci Q-matrix. Two notable properties are:  \n",
    "\n",
    "$$ \\Phi^n = \n",
    "\\left[\\begin{matrix}\n",
    "F_{n+1} & F_n\\\\\n",
    "F_n & F_{n-1}\n",
    "\\end{matrix}\\right] $$\n",
    "\n",
    "and\n",
    "\n",
    "$$ R \\cdot \\Phi^n = \n",
    "\\left[\\begin{matrix}\n",
    "L_{n+1} & L_n\\\\\n",
    "L_n & L_{n-1}\n",
    "\\end{matrix}\\right] $$\n",
    "\n",
    "In this case, $\\Phi$ expresses the recursive formula that the Fibonacci numbers obey, which is $F_n = F_{n-1} +F_{n-1}$. If we define a Fibonacci vector $\\vec{F_n} = \\left[\\begin{matrix} F_n \\\\ F_{n-1} \\end{matrix}\\right] $, then $\\Phi$ will advance it to $\\vec{F_{n+1}}$:  \n",
    "\n",
    "$$ \\Phi \\vec{F_n} = \\vec{F_{n+1}} $$\n",
    "\n",
    "The Lucas numbers obey the same recursive rule, $L_n = L_{n-1} +L_{n-1}$, so that if we define a Lucas vector $\\vec{L_n} = \\left[\\begin{matrix} L_n \\\\ L_{n-1} \\end{matrix}\\right] $ then  \n",
    "\n",
    "$$ \\Phi \\vec{L_n} = \\vec{L_{n+1}} $$\n",
    "\n",
    "More generally,  \n",
    "\n",
    "$$ \\Phi^k \\vec{F_n} = \\vec{F_{n+k}} \\quad \\text{and} \\quad \\Phi^k \\vec{L_n} = \\vec{L_{n+k}}$$\n",
    "\n",
    "### Example 2\n",
    "\n",
    "Suppose $R = \\left[\\begin{matrix}\n",
    "0 & 1\\\\\n",
    "5 & 0\n",
    "\\end{matrix}\\right] $, so that $\\Phi = \\frac{I+R}{2} = \n",
    "\\left[\\begin{matrix}\n",
    "\\frac 1 2 & \\frac 1 2\\\\\n",
    "\\frac 5 2 & \\frac 1 2\n",
    "\\end{matrix}\\right] $.\n",
    "\n",
    "In this case,  \n",
    "\n",
    "$$ \\Phi^n =\n",
    "\\left[\\begin{matrix}\n",
    "\\frac {L_n} 2 & \\frac {F_n} 2\\\\\n",
    "\\frac {5F_n} 2 & \\frac {L_n} 2\n",
    "\\end{matrix}\\right] $$\n",
    "\n",
    "This $\\Phi$ expresses a pair of identities:\n",
    "$$ F_{n+1} = \\frac{L_n + F_n}{2} \\quad \\text{and} \\quad L_{n+1} = \\frac{5F_{n}+L_n}{2} $$\n",
    "\n",
    "So:  \n",
    "\n",
    "$$ \\Phi \\left[\\begin{matrix} F_n \\\\ L_{n} \\end{matrix}\\right] = \\left[\\begin{matrix} F_{n+1} \\\\ L_{n+1} \\end{matrix}\\right] \\quad \\text{and} \\quad\n",
    "\\Phi^k \\left[\\begin{matrix} F_n \\\\ L_{n} \\end{matrix}\\right] = \\left[\\begin{matrix} F_{n+k} \\\\ L_{n+k} \\end{matrix}\\right]\n",
    "$$\n",
    "\n",
    "This matrix $\\Phi$ is special because it is a matrix representation of the golden ratio $\\phi = \\frac 12 + \\frac{\\sqrt 5}2$ in much the same sense that $\\left[\\begin{matrix}\n",
    "a & b\\\\\n",
    "-b & a\n",
    "\\end{matrix}\\right]$ is the matrix representation of the complex number $a+bi$.\n",
    "\n",
    "### Example 3\n",
    "\n",
    "Let's consider a more general example. If a matrix $R = \\left[\\begin{matrix} a & b\\\\ c & d \\end{matrix}\\right]$ satisfies $R^2 = 5I$, then the following must hold:  \n",
    "\n",
    "$$\n",
    "\\begin{align}\n",
    "(a + d)b &= 0 \\\\\n",
    "(a + d)c &= 0 \\\\\n",
    "a^2 + bc &= 5 \\\\\n",
    "d^2 + bc &= 5\n",
    "\\end{align}\n",
    "$$\n",
    "\n",
    "Let's assume $b$ and $c$ are non-zero. It follows that $d = -a$ and $c = \\frac{5 - a^2}{b}$. So we can write $R$ in terms of $a$ and $b$ only as $R = \\left[\\begin{matrix} a & b\\\\ \\frac{5 - a^2}{b} & -a \\end{matrix}\\right]$. Then $\\Phi = \\frac{I+R}{2} = \n",
    "\\left[\\begin{matrix}\n",
    "\\frac{1+a}{2} & \\frac{b}{2}\\\\\n",
    "\\frac{5-a^2}{2b} & \\frac{1-a}{2}\n",
    "\\end{matrix}\\right] $. This form generalizes examples 1 and 2 above. Let's investigate what powers of $\\Phi$ look like using a bit of code:"
   ]
  },
  {
   "cell_type": "code",
   "execution_count": 1,
   "id": "2e349aa9-b22a-4416-874a-7aa78574f55f",
   "metadata": {},
   "outputs": [
    {
     "data": {
      "text/latex": [
       "$\\displaystyle \\Phi = \\left[\\begin{matrix}\\frac{a}{2} + \\frac{1}{2} & \\frac{b}{2}\\\\\\frac{5 - a^{2}}{2 b} & \\frac{1}{2} - \\frac{a}{2}\\end{matrix}\\right]$"
      ],
      "text/plain": [
       "Eq(\\Phi, Matrix([\n",
       "[       a/2 + 1/2,       b/2],\n",
       "[(5 - a**2)/(2*b), 1/2 - a/2]]))"
      ]
     },
     "metadata": {},
     "output_type": "display_data"
    },
    {
     "data": {
      "text/latex": [
       "$\\displaystyle \\Phi^{2} = \\left[\\begin{matrix}\\frac{a}{2} + \\frac{3}{2} & \\frac{b}{2}\\\\\\frac{5 - a^{2}}{2 b} & \\frac{3}{2} - \\frac{a}{2}\\end{matrix}\\right]$"
      ],
      "text/plain": [
       "Eq(\\Phi**2, Matrix([\n",
       "[       a/2 + 3/2,       b/2],\n",
       "[(5 - a**2)/(2*b), 3/2 - a/2]]))"
      ]
     },
     "metadata": {},
     "output_type": "display_data"
    },
    {
     "data": {
      "text/latex": [
       "$\\displaystyle \\Phi^{3} = \\left[\\begin{matrix}a + 2 & b\\\\- \\frac{a^{2}}{b} + \\frac{5}{b} & 2 - a\\end{matrix}\\right]$"
      ],
      "text/plain": [
       "Eq(\\Phi**3, Matrix([\n",
       "[        a + 2,     b],\n",
       "[-a**2/b + 5/b, 2 - a]]))"
      ]
     },
     "metadata": {},
     "output_type": "display_data"
    },
    {
     "data": {
      "text/latex": [
       "$\\displaystyle \\Phi^{4} = \\left[\\begin{matrix}\\frac{3 a}{2} + \\frac{7}{2} & \\frac{3 b}{2}\\\\\\frac{15 - 3 a^{2}}{2 b} & \\frac{7}{2} - \\frac{3 a}{2}\\end{matrix}\\right]$"
      ],
      "text/plain": [
       "Eq(\\Phi**4, Matrix([\n",
       "[        3*a/2 + 7/2,       3*b/2],\n",
       "[(15 - 3*a**2)/(2*b), 7/2 - 3*a/2]]))"
      ]
     },
     "metadata": {},
     "output_type": "display_data"
    },
    {
     "data": {
      "text/latex": [
       "$\\displaystyle \\Phi^{10} = \\left[\\begin{matrix}\\frac{55 a}{2} + \\frac{123}{2} & \\frac{55 b}{2}\\\\\\frac{275 - 55 a^{2}}{2 b} & \\frac{123}{2} - \\frac{55 a}{2}\\end{matrix}\\right]$"
      ],
      "text/plain": [
       "Eq(\\Phi**10, Matrix([\n",
       "[       55*a/2 + 123/2,         55*b/2],\n",
       "[(275 - 55*a**2)/(2*b), 123/2 - 55*a/2]]))"
      ]
     },
     "metadata": {},
     "output_type": "display_data"
    }
   ],
   "source": [
    "from sympy import *\n",
    "phi = (1 + sqrt(5))/2\n",
    "phibar = 1 - phi\n",
    "\n",
    "a, b = symbols('a, b')\n",
    "Phi = Matrix([[(a+1)/2, b/2],[(5-a**2)/(2*b), (-a+1)/2]])\n",
    "Phis = symbols(r'\\Phi')\n",
    "display(Eq(Phis, Phi, evaluate=False))\n",
    "display(Eq(Phis**2, Phi**2, evaluate=False))\n",
    "display(Eq(Phis**3, Phi**3, evaluate=False))\n",
    "display(Eq(Phis**4, Phi**4, evaluate=False))\n",
    "display(Eq(Phis**10, Phi**10, evaluate=False))"
   ]
  },
  {
   "cell_type": "markdown",
   "id": "939b5f77-7f3d-4703-9f74-0ca7fd1a59ff",
   "metadata": {},
   "source": [
    "The $n^{th}$ power of $\\Phi$ is filled with combinations of $F_n$ and $L_n$.\n",
    "\n",
    "### Example 4\n",
    "\n",
    "Suppose $R = \\left[\\begin{matrix}\n",
    "-\\sqrt 5 & 2\\\\\n",
    "0 & \\sqrt 5\n",
    "\\end{matrix}\\right] $, so that $\\Phi = \\frac{I+R}{2} = \n",
    "\\left[\\begin{matrix}\n",
    "\\pb & 1\\\\\n",
    "0 & \\phi\n",
    "\\end{matrix}\\right] $ and $\n",
    "\\Phi^n =\n",
    "\\left[\\begin{matrix}\n",
    "\\pbn{n} & F_n\\\\\n",
    "0 & \\phi^n\n",
    "\\end{matrix}\\right]$.\n",
    "\n",
    "This matrix can be used to implement the formula $F_{n+1} = \\phi^n + \\pb F_n$, an equation which comes from solving $\\phi^{n+1} = F_{n+1} \\phi + F_n$ for $F_{n+1}$. Set a vector $\\vec F_n =  \\left[\\begin{matrix} F_n \\\\ \\phi^n \\end{matrix}\\right]$ and then:  \n",
    "\n",
    "$$\n",
    "\\Phi \\vec F_n = \\left[\\begin{matrix}\n",
    "\\pb & 1\\\\\n",
    "0 & \\phi\n",
    "\\end{matrix}\\right] \n",
    "\\left[\\begin{matrix} F_n \\\\ \\phi^n \\end{matrix}\\right] =\n",
    "\\left[\\begin{matrix} \\pb F_n + \\phi^n \\\\ \\phi \\phi^n \\end{matrix}\\right]\n",
    "\\left[\\begin{matrix} F_{n+1} \\\\ \\phi^{n+1} \\end{matrix}\\right] = \\vec F_{n+1}\n",
    "$$\n",
    "\n",
    "and more generally:\n",
    "\n",
    "$$\n",
    "\\Phi^k \\vec F_n = \\left[\\begin{matrix}\n",
    "\\pbn{k} & F_k\\\\\n",
    "0 & \\phi^k\n",
    "\\end{matrix}\\right] \n",
    "\\left[\\begin{matrix} F_n \\\\ \\phi^n \\end{matrix}\\right] =\n",
    "\\left[\\begin{matrix} \\pbn{k} F_n + \\phi^n F_k \\\\ \\phi^k \\phi^n \\end{matrix}\\right]\n",
    "\\left[\\begin{matrix} F_{n+k} \\\\ \\phi^{n+k} \\end{matrix}\\right] = \\vec F_{n+k}\n",
    "$$\n",
    "\n",
    "Which illustrates a curious identity $F_{n+k} = \\pbn{k} F_n + \\phi^n F_k$.\n"
   ]
  },
  {
   "cell_type": "code",
   "execution_count": 2,
   "id": "d8f4106e-42bc-4911-aa14-453a5a29d560",
   "metadata": {},
   "outputs": [
    {
     "data": {
      "text/latex": [
       "$\\displaystyle \\Phi = \\left[\\begin{matrix}\\frac{1}{2} - \\frac{\\sqrt{5}}{2} & 1\\\\0 & \\frac{1}{2} + \\frac{\\sqrt{5}}{2}\\end{matrix}\\right]$"
      ],
      "text/plain": [
       "Eq(\\Phi, Matrix([\n",
       "[1/2 - sqrt(5)/2,               1],\n",
       "[              0, 1/2 + sqrt(5)/2]]))"
      ]
     },
     "metadata": {},
     "output_type": "display_data"
    },
    {
     "data": {
      "text/latex": [
       "$\\displaystyle \\Phi^{2} = \\left[\\begin{matrix}\\frac{3}{2} - \\frac{\\sqrt{5}}{2} & 1\\\\0 & \\frac{\\sqrt{5}}{2} + \\frac{3}{2}\\end{matrix}\\right]$"
      ],
      "text/plain": [
       "Eq(\\Phi**2, Matrix([\n",
       "[3/2 - sqrt(5)/2,               1],\n",
       "[              0, sqrt(5)/2 + 3/2]]))"
      ]
     },
     "metadata": {},
     "output_type": "display_data"
    },
    {
     "data": {
      "text/latex": [
       "$\\displaystyle \\Phi^{8} = \\left[\\begin{matrix}\\frac{47}{2} - \\frac{21 \\sqrt{5}}{2} & 21\\\\0 & \\frac{21 \\sqrt{5}}{2} + \\frac{47}{2}\\end{matrix}\\right]$"
      ],
      "text/plain": [
       "Eq(\\Phi**8, Matrix([\n",
       "[47/2 - 21*sqrt(5)/2,                  21],\n",
       "[                  0, 21*sqrt(5)/2 + 47/2]]))"
      ]
     },
     "metadata": {},
     "output_type": "display_data"
    },
    {
     "data": {
      "text/latex": [
       "$\\displaystyle \\Phi^{8} \\vec F_{5} = \\left[\\begin{matrix}233\\\\\\frac{521}{2} + \\frac{233 \\sqrt{5}}{2}\\end{matrix}\\right]$"
      ],
      "text/plain": [
       "Eq(\\Phi**8*\\vec F_5, Matrix([\n",
       "[                  233],\n",
       "[521/2 + 233*sqrt(5)/2]]))"
      ]
     },
     "metadata": {},
     "output_type": "display_data"
    },
    {
     "data": {
      "text/latex": [
       "$\\displaystyle F_{13} = 233$"
      ],
      "text/plain": [
       "Eq(F_13, 233)"
      ]
     },
     "metadata": {},
     "output_type": "display_data"
    }
   ],
   "source": [
    "# Some illustrative calculations for Example 4\n",
    "R=Matrix([[-sqrt(5), 2],[0, sqrt(5)]])\n",
    "Phi = (R + eye(2))/2\n",
    "F5 = Symbol(r'\\vec F_5')\n",
    "F5vec = Matrix(2, 1, [5, phi**5])\n",
    "display(Eq(Phis, Phi, evaluate=False))\n",
    "display(Eq(Phis**2, Phi**2, evaluate=False))\n",
    "display(Eq(Phis**8, Phi**8, evaluate = False))\n",
    "#Phi^8 * F5vector = F13Vector. F13Vector contains the 13th Fibonacci number 233:\n",
    "display(Eq(Phis**8 * F5, simplify(Phi**8 * F5vec), evaluate = False))\n",
    "#Confirm F_13 = 233 with the new identity:\n",
    "F5val = 5\n",
    "F8val = 21\n",
    "F13val = phibar ** 8 * F5val + phi ** 5 * F8val\n",
    "display(Eq(Symbol('F_13'), simplify(F13val), evaluate=False))\n"
   ]
  },
  {
   "cell_type": "markdown",
   "id": "4cda6852-dad1-471b-82b5-ab0598133f0a",
   "metadata": {},
   "source": [
    "### Example 5\n",
    "\n",
    "Suppose $R = \\left[\\begin{matrix}\n",
    "-\\sqrt 5 & 2 \\sqrt 5\\\\\n",
    "0 & \\sqrt 5\n",
    "\\end{matrix}\\right] $, so that $\\Phi = \\frac{I+R}{2} = \n",
    "\\left[\\begin{matrix}\n",
    "\\pb & \\sqrt 5\\\\\n",
    "0 & \\phi\n",
    "\\end{matrix}\\right] $ and $\n",
    "\\Phi^n =\n",
    "\\left[\\begin{matrix}\n",
    "\\pbn{n} & F_n \\sqrt 5\\\\\n",
    "0 & \\phi^n\n",
    "\\end{matrix}\\right]$.\n",
    "\n",
    "This matrix operates similar to the previous example, but it's based on the formula $L_{n+1} = \\phi^n \\sqrt 5 + \\pb L_n $ and leads to the identity $L_{n+k} = \\pbn{k} L_n + F_k \\sqrt 5 \\phi^n $."
   ]
  },
  {
   "cell_type": "code",
   "execution_count": 3,
   "id": "37d2b1bc-363c-4f2e-9b15-98a9875d5e11",
   "metadata": {},
   "outputs": [
    {
     "data": {
      "text/latex": [
       "$\\displaystyle \\Phi = \\left[\\begin{matrix}\\frac{1}{2} - \\frac{\\sqrt{5}}{2} & \\sqrt{5}\\\\0 & \\frac{1}{2} + \\frac{\\sqrt{5}}{2}\\end{matrix}\\right]$"
      ],
      "text/plain": [
       "Eq(\\Phi, Matrix([\n",
       "[1/2 - sqrt(5)/2,         sqrt(5)],\n",
       "[              0, 1/2 + sqrt(5)/2]]))"
      ]
     },
     "metadata": {},
     "output_type": "display_data"
    },
    {
     "data": {
      "text/latex": [
       "$\\displaystyle \\Phi^{7} = \\left[\\begin{matrix}\\frac{29}{2} - \\frac{13 \\sqrt{5}}{2} & 13 \\sqrt{5}\\\\0 & \\frac{29}{2} + \\frac{13 \\sqrt{5}}{2}\\end{matrix}\\right]$"
      ],
      "text/plain": [
       "Eq(\\Phi**7, Matrix([\n",
       "[29/2 - 13*sqrt(5)/2,          13*sqrt(5)],\n",
       "[                  0, 29/2 + 13*sqrt(5)/2]]))"
      ]
     },
     "metadata": {},
     "output_type": "display_data"
    },
    {
     "data": {
      "text/latex": [
       "$\\displaystyle \\Phi^{7} \\vec L_{6} = \\left[\\begin{matrix}521\\\\\\frac{521}{2} + \\frac{233 \\sqrt{5}}{2}\\end{matrix}\\right]$"
      ],
      "text/plain": [
       "Eq(\\Phi**7*\\vec L_6, Matrix([\n",
       "[                  521],\n",
       "[521/2 + 233*sqrt(5)/2]]))"
      ]
     },
     "metadata": {},
     "output_type": "display_data"
    },
    {
     "data": {
      "text/latex": [
       "$\\displaystyle L_{13} = 521$"
      ],
      "text/plain": [
       "Eq(L_13, 521)"
      ]
     },
     "metadata": {},
     "output_type": "display_data"
    }
   ],
   "source": [
    "#Some illustrative calculations for example 5\n",
    "R=Matrix([[-sqrt(5), 2 * sqrt(5)],[0, sqrt(5)]])\n",
    "Phi = (R + eye(2))/2\n",
    "L6 = Symbol(r'\\vec L_6')\n",
    "L6vec = Matrix(2, 1, [18, phi**6])\n",
    "display(Eq(Phis, Phi, evaluate=False))\n",
    "display(Eq(Phis**7, Phi**7, evaluate=False))\n",
    "display(Eq(Phis**7 * L6, expand(Phi**7 * L6vec), evaluate = False))\n",
    "\n",
    "# An example of the formula L_n+k = phibar^k * L_n + F_k * sqrt(5) * phi^n with n = 6 and k = 7. \n",
    "L6val = 18\n",
    "F7val = 13\n",
    "L13val = phibar**7 * L6val + F7val * sqrt(5) * phi**6\n",
    "display(Eq(Symbol(r'L_13'),simplify(L13val), evaluate=False))"
   ]
  },
  {
   "cell_type": "markdown",
   "id": "c20610a4-c470-471e-97eb-c9365c4741ea",
   "metadata": {},
   "source": [
    "### Example 6\n",
    "\n",
    "Suppose $R = \\left[\\begin{matrix}\n",
    "\\sqrt 5 & 0\\\\\n",
    "0 & -\\sqrt 5\n",
    "\\end{matrix}\\right] $, so that $\\Phi = \\frac{I+R}{2} = \n",
    "\\left[\\begin{matrix}\n",
    "\\phi & 0\\\\\n",
    "0 & \\pb\n",
    "\\end{matrix}\\right] $.\n",
    "\n",
    "One could use this matrix to implement Binet's formula or similar formulas of the form $S_n = C \\cdot \\phi^n + \\overline{C} \\cdot\\pbn{n}$ if so desired.\n",
    "\n",
    "$$\\left[\\begin{matrix} 1 & 1 \\end{matrix}\\right] \\left[\\begin{matrix}\n",
    "\\phi & 0\\\\\n",
    "0 & \\pb\n",
    "\\end{matrix}\\right] \\left[\\begin{matrix} C \\\\ \\overline{C} \\end{matrix}\\right] = C \\cdot \\phi^n + \\overline{C}\\cdot\\pbn{n}$$"
   ]
  },
  {
   "cell_type": "code",
   "execution_count": null,
   "id": "471c3908-0126-4192-9c60-1f4cc1a4e5ca",
   "metadata": {},
   "outputs": [],
   "source": []
  }
 ],
 "metadata": {
  "kernelspec": {
   "display_name": "Python 3 (ipykernel)",
   "language": "python",
   "name": "python3"
  },
  "language_info": {
   "codemirror_mode": {
    "name": "ipython",
    "version": 3
   },
   "file_extension": ".py",
   "mimetype": "text/x-python",
   "name": "python",
   "nbconvert_exporter": "python",
   "pygments_lexer": "ipython3",
   "version": "3.10.9"
  }
 },
 "nbformat": 4,
 "nbformat_minor": 5
}
