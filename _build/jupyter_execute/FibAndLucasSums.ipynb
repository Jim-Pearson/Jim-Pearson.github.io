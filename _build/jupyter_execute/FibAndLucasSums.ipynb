{
 "cells": [
  {
   "cell_type": "markdown",
   "id": "69ce08eb",
   "metadata": {},
   "source": [
    "$\\newcommand{\\pb}[0]{\\overline{\\phi}\\vphantom{\\phi}}$\n",
    "$\\newcommand{\\fre}[0]{\\it{\\text{Fibonacci recursion equation}}}$\n",
    "# Fibonacci  Sums and Lucas Sums\n",
    "\n",
    "This article concerns summing Fibonacci and Lucas numbers.  I'll review quickly what these sequences of numbers are, then discuss summation.  \n",
    "\n",
    "First, sums of Fibonancci numbers with and without skipping:\n",
    "* Sums of the first $n$ consecutive Fibonacci numbers, e.g. the sum of the first 10:\n",
    "    * $F_1+ F_2 + F_3 + \\ldots + F_{10}$\n",
    "* Sums of every other Fibonacci number up to some value, i.e.\n",
    "    * $F_2+ F_4 + F_6 + \\ldots + F_{2n}$ and\n",
    "    * $F_1+ F_3 + F_5 + \\ldots + F_{2n-1}$\n",
    "* Sums of every third Fibonacci number up to some value, i.e.\n",
    "    * $F_3+F_6+F_9+ \\ldots + F_{3n}$,\n",
    "    * $F_2+F_5+F_8+ \\ldots + F_{3n-1}$, and\n",
    "    * $F_1+F_4+F_7+ \\ldots + F+{3n-2}$\n",
    "* Sums of every fourth Fibonacci number, every fifth, every sixth, etc.   \n",
    "\n",
    "Then alternating sums, e.g.\n",
    "* $F_1-F_2+F_3-F_4+ \\ldots +F_{9}-F_{10}$,\n",
    "* $F_3-F_6+F_9-F_{12}+ \\ldots +F_{27}-F_{30}$, etc.  \n",
    "\n",
    "Finally all of the above again for the Lucas numbers.\n",
    "\n",
    "## Background\n",
    "### What are the Fibonacci and Lucas numbers?\n",
    "#### Fibonacci\n",
    "The Fibonacci numbers, a.k.a. the Fibonacci sequence, are an ordered sequence of whole numbers starting with the first two values $F_1$ and $F_2$ set equal to zero, and then subsequent values are determined from the $\\fre$:  \n",
    "\n",
    "```{math}\n",
    ":label: fre\n",
    "F_n = F_{n-1} + F_{n-2}\n",
    "```\n",
    "\n",
    "So the third Fibonacci number is $F_3 = 2$ because $F_3 = F_1 + F_2 = 1 + 1 =2$, the fourth value is $F_4 = 3$ because $F_4 = F_3 + F_2 = 2 + 1 = 3$, the fifth is $F_5 = F_4 + F_3 = 3 + 2 = 5$, etc. The first 12 values are:  \n",
    "$ 1,1,2,3,5,8,13,21,34,55,89,144 $\n",
    "\n",
    "The sequence can be extended backwards, with $F_0=0$, $F_{-1}=1$, $F_{-2}=-1$, etc.  \n",
    "There is a mathemagical formula for directly calculating any member of the Fibonacci sequence:  \n",
    "\n",
    "$$\n",
    "F_n = \\frac{\\left(\\frac{1+\\sqrt5}{2}\\right)^n-\\left(\\frac{1-\\sqrt5}{2}\\right)^n}{\\sqrt5}\n",
    "$$  \n",
    "\n",
    "It seems odd or amazing that this messy equation with several $\\sqrt5$s in it would evaluate to whole numbers, but it works.  \n",
    "I'll abbreviate this formula by setting $ \\phi = \\frac{1+\\sqrt5}{2} $ and $ \\pb = \\frac{1-\\sqrt5}{2} $ so that   \n",
    "\n",
    "```{math}\n",
    ":label: binet\n",
    "F_n = \\frac{\\phi^n-\\pb^n}{\\sqrt5}\n",
    "```\n",
    "\n",
    "#### Lucas\n",
    "The Lucas numbers are similar to the Fibonacci sequence except that the first two values are $L_1 = 1$ and $L_2 = 3$. So the first 12 values are:  \n",
    "\n",
    "$$\n",
    "1,3,4,7,11,18,29,47,76,123,199,322\n",
    "$$\n",
    "\n",
    "These values are related to the Fibonacci numbers by the equation $ L_n = F_{n+1} + F_{n-1} $. As with the Fibonacci numbers, there is a formula for calculating Lucas numbers directly:  \n",
    "\n",
    "```{math}\n",
    ":label: lbf\n",
    "L_n = \\phi^n+\\pb^n\n",
    "```\n",
    "\n",
    "### Python code\n",
    "This article includes computations with Python code. I'll set up some imports and function definitions here."
   ]
  },
  {
   "cell_type": "code",
   "execution_count": 1,
   "id": "645277ce",
   "metadata": {},
   "outputs": [],
   "source": [
    "# import packages\n",
    "import numpy as np\n",
    "from IPython.display import display, Math, Markdown\n",
    "\n",
    "# constants\n",
    "phi = (1+5**0.5)/2 # The Golden Ratio\n",
    "phib = 1 - phi # Its rational conjugate\n",
    "\n",
    "# Utility function for nice-looking printing\n",
    "def printmd(string):\n",
    "    display(Markdown(string))\n",
    "    \n",
    "# Fibonacci number function\n",
    "def Fib(k):\n",
    "    # Calculate the kth Fibonacci number for any integer k\n",
    "    # using the Binet formula.\n",
    "    return int((phi**k - phib**k)/5**0.5)\n",
    "\n",
    "# Lucas number function\n",
    "def Luc(k):\n",
    "    # Calculate the kth Lucas number for any integer k.\n",
    "    return int(phi**k + phib**k)\n",
    "\n",
    "# Test\n",
    "#printmd(\"The first 12 Fibonacci numbers:\\n\\n\"+str([Fib(i) for i in range(1,13)])[1:-1])\n",
    "#printmd(\"\\nThe first 12 Lucas numbers:\\n\\n\"+str([Luc(i) for i in range(1,13)])[1:-1])\n"
   ]
  },
  {
   "cell_type": "markdown",
   "id": "88ba1fa3",
   "metadata": {},
   "source": [
    "## Fibonacci Sums\n",
    "Now let's move on to discuss the main topic of this article which is sums of collections of Fibonacci and Lucas numbers.\n",
    "### Sums of the First $n$ Fibonacci Numbers\n",
    "First let's consider the most straightforward case of summing the first $n$ consecutive Fibonacci numbers. In fact this is a well-known identity:  \n",
    "\n",
    "$$  \n",
    "F_1+ F_2 + F_3 + \\ldots + F_{n} = F_{n+2} - 1  \n",
    "$$\n",
    "\n",
    "Let's calculate a few examples:"
   ]
  },
  {
   "cell_type": "code",
   "execution_count": 2,
   "id": "9f5ad816",
   "metadata": {},
   "outputs": [
    {
     "data": {
      "text/latex": [
       "$\\displaystyle \\text{For n = }3, F_{5}-1=\\textbf{4}\\text{ and the sum of the first 3 Fibonacci numbers is } \\textbf{4}$"
      ],
      "text/plain": [
       "<IPython.core.display.Math object>"
      ]
     },
     "metadata": {},
     "output_type": "display_data"
    },
    {
     "data": {
      "text/latex": [
       "$\\displaystyle \\text{For n = }5, F_{7}-1=\\textbf{12}\\text{ and the sum of the first 5 Fibonacci numbers is } \\textbf{12}$"
      ],
      "text/plain": [
       "<IPython.core.display.Math object>"
      ]
     },
     "metadata": {},
     "output_type": "display_data"
    },
    {
     "data": {
      "text/latex": [
       "$\\displaystyle \\text{For n = }10, F_{12}-1=\\textbf{143}\\text{ and the sum of the first 10 Fibonacci numbers is } \\textbf{143}$"
      ],
      "text/plain": [
       "<IPython.core.display.Math object>"
      ]
     },
     "metadata": {},
     "output_type": "display_data"
    },
    {
     "data": {
      "text/latex": [
       "$\\displaystyle \\text{For n = }30, F_{32}-1=\\textbf{2,178,308}\\text{ and the sum of the first 30 Fibonacci numbers is } \\textbf{2,178,308}$"
      ],
      "text/plain": [
       "<IPython.core.display.Math object>"
      ]
     },
     "metadata": {},
     "output_type": "display_data"
    }
   ],
   "source": [
    "ns = [3, 5, 10, 30]\n",
    "numSums = max(ns) + 1\n",
    "\n",
    "# Calculate the sum of the first n Fibonacci numbers for n from\n",
    "# 0 to numSums.\n",
    "sums = np.cumsum([Fib(i) for i in range(0, numSums)])\n",
    "\n",
    "for n in ns:\n",
    "    #display(Math(rf\"\\text{{For n = }}{n}, F_{{{n+2}}}-1={sums[n]}\"))\n",
    "    #display(Math(rf\"\\text{{For n = }}{n}, F_{{{n+2}}}-1={Fib(n+2)-1}\"))\n",
    "    msg = rf\"\\text{{For n = }}{n}, F_{{{n+2}}}-1=\\textbf{{{Fib(n+2)-1:,}}}\"\n",
    "    msg += rf\"\\text{{ and the sum of the first {n} Fibonacci \"\n",
    "    msg += rf\"numbers is }} \\textbf{{{sums[n]:,}}}\"\n",
    "    display(Math(msg))"
   ]
  },
  {
   "cell_type": "markdown",
   "id": "9669dc9b",
   "metadata": {},
   "source": [
    "For this formula I'll share a proof which explains where the \"$\\vphantom{x}-1$\" at the end comes from. The proof is accomplished by applying the $\\fre$ {eq}`fre` $n$ times.  \n",
    "\n",
    "To illustrate, click the dropdown box if you'd like to see an example for the case where $n=5$.  \n",
    "\n",
    "```{dropdown} Example: n=5\n",
    "For the case where $n=5$, the identity is:  \n",
    "\n",
    "$$\n",
    "F_1 + F_2 + F_3 + F_4 + F_5 = F_7 - 1\n",
    "$$  \n",
    "\n",
    "Let's prove it with the $\\fre$ {eq}`fre`:  \n",
    "\n",
    "$$\n",
    "\\begin{align}\n",
    "F_7 &= F_6 + F_5\n",
    "&= 2F_5 + F_4\n",
    "&= F_5 + 2F_4 + F_3\n",
    "&= F_5 + F_4 + 2F_3 + F_2\n",
    "&= F_5 + F_4 + F_3 + 2F_2 + F_1\n",
    "\\end{align}\n",
    "$$\n",
    "\n",
    "We have arrived at $F_7 = F_5 + F_4 + F_3 + 2F_2 + F_1$. See that there are two $F_2$ terms on the right. Recalling that $F_2 = 1$, subtract $1$ from both sides to yield:  \n",
    "\n",
    "$$\n",
    "F_7 - 1 = F_5 + F_4 + F_3 + F_2 + F_1\n",
    "$$\n",
    "```\n",
    "\n",
    "Let's consider the general case of summing the first $n$ Fibonacci numbers. Start with $F_{n+2}$. Apply the $\\fre$ {eq}`fre` to it:  \n",
    "\n",
    "$$\n",
    "F_{n+2}=F_{n+1}+F_{n}\n",
    "$$\n",
    "\n",
    "Now apply the $\\fre$ {eq}`fre` to the $F_{n+1}$ term, which yields $F_{n+1}=F_{n} + F_{n-1}$. Substitute:  \n",
    "\n",
    "$$\n",
    "F_{n+2}=F_{n+1}+F_{n}=(F_{n} + F_{n-1})+F_n= 2F_n+F_{n-1}\n",
    "$$\n",
    "\n",
    "Now again apply the $\\fre$ {eq}`fre` to $F_{n}$, which yields $F_{n}=F_{n-1} + F_{n-2}$. Substitute for one of the $F_n$ terms into the equation above:  \n",
    "\n",
    "$$\n",
    "F_{n+2}=2F_n+F_{n-1} = (F_{n-1} + F_{n-2}) + F_n + F_{n-1} = F_n + 2F_{n-1} + F_{n-2}\n",
    "$$\n",
    "\n",
    "Apply the $\\fre$ {eq}`fre` again, this time to yield $F_{n-1} = F_{n-2}+F_{n-3}$. Substitue to eliminate one of the $F_{n-1}$ terms:  \n",
    "\n",
    "$$\n",
    "F_{n+2}=F_n + 2F_{n-1} + F_{n-2}=F_n + F_{n-1}+ (F_{n-2}+F_{n-3}) + F_{n-2}\n",
    "=F_n + F_{n-1}+ 2F_{n-2} + F_{n-3}\n",
    "$$\n",
    "\n",
    "The pattern continues. Wherever a factor $2$ appears, eliminate one term with the $\\fre$ {eq}`fre`. To repeat the steps more briefly all together:  \n",
    "\n",
    "$$\n",
    "\\begin{align}\n",
    "F_{n+2}&=F_{n+1}+F_{n}\\\\\n",
    "&=2F_n+F_{n-1}\\\\\n",
    "&=F_n + 2F_{n-1} + F_{n-2}\\\\\n",
    "&=F_n + F_{n-1}+ 2F_{n-2} + F_{n-3}\\\\\n",
    "\\end{align}\n",
    "$$\n",
    "\n",
    "Apply the $\\fre$ {eq}`fre` a total of $n$ times. This leads to  \n",
    "\n",
    "$$\n",
    "F_n + F_{n-1} + F_{n-2}+\\ldots+F_3+2F_2+F_1=F_{n+2}\n",
    "$$\n",
    "\n",
    "Notice that there are two $F_2$ terms on the equation's left side. Subtract $F_2$ from both sides to arrive at the identity:  \n",
    "\n",
    "$$\n",
    "F_n + F_{n-1} + F_{n-2}+\\ldots+F_3+F_2+F_1=F_{n+2}-F_2\n",
    "$$\n",
    "\n",
    "Recall that $F_2=1$. This explains why there's a $\\vphantom{1}-1$ in the identity.  \n",
    "\n",
    "### Sums of Every Other Fibonacci Number\n",
    "Now we'll consider sums of evenly indexed Fibonacci numbers, i.e. $ F_2 + F_4 + F_6 + \\ldots + F_n $ with the assumption that $n$ is even. There is a simple way to eliminate almost all the terms and show  \n",
    "```{math}\n",
    ":label: evensum\n",
    "F_2 + F_4 + F_6 + \\ldots + F_n = F_{n+1} - 1\n",
    "```\n",
    "\n",
    "We'll do this by applying the $\\fre$ {eq}`fre` again, but in a rearranged form. Subtract $F_{n-2}$ sides of the $\\fre$ {eq}`fre` to yield:  \n",
    "\n",
    "```{math}\n",
    ":label: rfre\n",
    "F_{n-1} = F_{n} - F_{n-2}\n",
    "``` \n",
    "\n",
    "Equation {eq}`rfre` says that any Fibonacci number can be represented by the difference of its successor and its predecessor, i.e.  \n",
    "\n",
    "$$\n",
    "\\begin{align}\n",
    "F_2 &= F_3 - F_1, \\\\\n",
    "F_4 &= F_5 - F_3, \\\\\n",
    "F_6 &= F_7 - F_5, etc.\n",
    "\\end{align}\n",
    "$$\n",
    "\n",
    "Substituting these experessions for every term in the sum telescopes the sum down to just two terms. To illustrate the point, click the dropdown if you'd like to see an example.\n",
    "\n",
    "```{dropdown} Example: n=6\n",
    "Consider the sum $F_2 + F_4 + F_6$. Let's see the proof for the even sum formula {eq}`evensum` for this case. That is, we want to show that  \n",
    "$$\n",
    "F_2 + F_4 + F_6 = F_7 - 1\n",
    "$$\n",
    "Each of the left side terms may be replaced using the rearranged $\\fre$ {eq}`rfre` as described above, i.e.  \n",
    "$\n",
    "F_2 = F_3 - F_1, \\\\\n",
    "F_4 = F_5 - F_3, and \\\\\n",
    "F_6 = F_7 - F_5\n",
    "$  \n",
    "Then the sum $F_2 + F_4 + F_6$ becomes  \n",
    "$\n",
    "(F_3 - F_1) + (F_5 - F_3) + (F_7 - F_5)\n",
    "$  \n",
    "Reorder the terms:  \n",
    "$\n",
    "F_7 - F_5 + F_5 - F_3 + F_3 - F_1 = F_7 - F_1 = F_7 - 1\n",
    "$\n",
    "```"
   ]
  },
  {
   "cell_type": "code",
   "execution_count": null,
   "id": "da58c1aa",
   "metadata": {},
   "outputs": [],
   "source": []
  },
  {
   "cell_type": "code",
   "execution_count": 3,
   "id": "82e7f38f",
   "metadata": {},
   "outputs": [
    {
     "data": {
      "text/latex": [
       "$\\displaystyle \\left[\\begin{matrix}88 & 54\\\\54 & 34\\end{matrix}\\right]$"
      ],
      "text/plain": [
       "Matrix([\n",
       "[88, 54],\n",
       "[54, 34]])"
      ]
     },
     "metadata": {},
     "output_type": "display_data"
    }
   ],
   "source": [
    "from sympy import Matrix as mat\n",
    "from sympy import zeros, eye\n",
    "\n",
    "Q = mat([[1, 1], [1, 0]])\n",
    "I = eye(2)\n",
    "S = sum([Q ** i for i in range(9)], zeros(2))\n",
    "display(S)"
   ]
  }
 ],
 "metadata": {
  "kernelspec": {
   "display_name": "Python 3 (ipykernel)",
   "language": "python",
   "name": "python3"
  },
  "language_info": {
   "codemirror_mode": {
    "name": "ipython",
    "version": 3
   },
   "file_extension": ".py",
   "mimetype": "text/x-python",
   "name": "python",
   "nbconvert_exporter": "python",
   "pygments_lexer": "ipython3",
   "version": "3.10.12"
  }
 },
 "nbformat": 4,
 "nbformat_minor": 5
}