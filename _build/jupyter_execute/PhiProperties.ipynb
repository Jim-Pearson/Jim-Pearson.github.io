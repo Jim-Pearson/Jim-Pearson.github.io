{
 "cells": [
  {
   "cell_type": "markdown",
   "id": "23e709b7-f4ca-4808-a397-bae9d58db6a8",
   "metadata": {},
   "source": [
    "$\\newcommand{\\ov}[2]{\\overline{\\smash{#1}\\vphantom{#2}}}$\n",
    "$\\newcommand{\\pb}[0]{\\ov{\\phi}{;}}$\n",
    "$\\newcommand{\\cb}[0]{\\ov{C}{;}}$\n",
    "$\\newcommand{\\pbn}[1]{\\pb\\vphantom{}^{#1}}$    \n",
    "# Mathematical Properties of the Golden Ratio\n",
    "\n",
    "## Defining the Golden Ratio and its Rational Conjugate\n",
    "\n",
    "The golden ratio $\\phi = \\frac{1+\\sqrt5}{2}$ and its rational conjugate $\\pb = \\frac{1-\\sqrt5}{2}$ are the solutions of the equation $x^2 = x + 1 = 0$.\n",
    "\n",
    "## Basic Operations on ${\\phi}$ and ${\\pb}$\n",
    "\n",
    "${\\phi}$ and ${\\pb}$ relate in the following ways:  \n",
    "\n",
    "$$\\begin{align}\n",
    "\\phi + \\pb &= 1 \\\\\n",
    "\\phi - \\pb &= \\sqrt5 \\\\\n",
    "\\phi \\cdot \\pb &= -1\n",
    "\\end{align}\n",
    "$$"
   ]
  },
  {
   "cell_type": "code",
   "execution_count": 1,
   "id": "0be4dd15-e7a0-460b-8d0f-b42b9058a593",
   "metadata": {},
   "outputs": [
    {
     "name": "stdout",
     "output_type": "stream",
     "text": [
      "The sum of the two ratios is 1\n"
     ]
    },
    {
     "data": {
      "text/latex": [
       "$\\displaystyle \\phi + \\vphantom{}\\overline{\\smash{\\phi}\\vphantom{;}} = 1$"
      ],
      "text/plain": [
       "Eq(\\phi + \\vphantom{}\\overline{\\smash{\\phi}\\vphantom{;}}, 1)"
      ]
     },
     "metadata": {},
     "output_type": "display_data"
    },
    {
     "name": "stdout",
     "output_type": "stream",
     "text": [
      "Their difference is root 5\n"
     ]
    },
    {
     "data": {
      "text/latex": [
       "$\\displaystyle \\phi - \\vphantom{}\\overline{\\smash{\\phi}\\vphantom{;}} = \\sqrt{5}$"
      ],
      "text/plain": [
       "Eq(\\phi - \\vphantom{}\\overline{\\smash{\\phi}\\vphantom{;}}, sqrt(5))"
      ]
     },
     "metadata": {},
     "output_type": "display_data"
    },
    {
     "name": "stdout",
     "output_type": "stream",
     "text": [
      "Their product is -1\n"
     ]
    },
    {
     "data": {
      "text/latex": [
       "$\\displaystyle \\phi \\vphantom{}\\overline{\\smash{\\phi}\\vphantom{;}} = -1$"
      ],
      "text/plain": [
       "Eq(\\phi*\\vphantom{}\\overline{\\smash{\\phi}\\vphantom{;}}, -1)"
      ]
     },
     "metadata": {},
     "output_type": "display_data"
    }
   ],
   "source": [
    "import sympy as sym\n",
    "from IPython.display import display, Math\n",
    "phiv = (1 + sym.sqrt(5))/2\n",
    "phibarv = 1 - phiv\n",
    "phi, phibar = sym.symbols(r'\\phi \\vphantom{}\\overline{\\smash{\\phi}\\vphantom{;}}')\n",
    "print('The sum of the two ratios is 1')\n",
    "display(sym.Eq(phi + phibar, phiv + phibarv))\n",
    "print('Their difference is root 5')\n",
    "display(sym.Eq(phi - phibar, phiv - phibarv))\n",
    "print('Their product is -1')\n",
    "display(sym.Eq(phi * phibar, (phiv * phibarv).simplify()))"
   ]
  },
  {
   "cell_type": "markdown",
   "id": "bf04ada9-02fe-464e-ac99-3b216dfc8eef",
   "metadata": {},
   "source": [
    "## Powers of ${\\phi}$ and ${\\pb}$  \n",
    "\n",
    "Since $\\phi$ solves $x^2 = x + 1 = 0$, it obeys the relation:  \n",
    "\n",
    "$$\\phi^2 = \\phi + 1$$  \n",
    "\n",
    "Multiply both sides by $\\phi$ to yield:  \n",
    "\n",
    "$$\\phi^3 = \\phi^2 + \\phi$$\n",
    "\n",
    "Now take advantage of $\\phi^2 = \\phi + 1$ and substitute $\\phi + 1$ for $\\phi^2$:  \n",
    "\n",
    "$$\\begin{align}\n",
    "\\phi^3 &= \\phi + 1 + \\phi \\\\  \n",
    "\\phi^3 &= 2 \\phi + 1\n",
    "\\end{align}$$\n",
    "\n",
    "So we have $\\phi^3$ and $\\phi^2$ each expressed as a multiple of $\\phi$ plus an integer. A pattern is emerging. We can repeat the same trick to yield a similar representation for $\\phi^4$:  \n",
    "\n",
    "$$\\begin{align}\n",
    "\\phi^3 &= 2 \\phi + 1  && \\text{Start with the expression for } \\phi^3. \\\\\n",
    "\\phi^4 &= 2 \\phi^2 + \\phi  && \\text{Multiply both sides by } \\phi.  \\\\\n",
    "\\phi^4 &= 2 (\\phi + 1) + \\phi  && \\text{Substitute } \\phi + 1 \\text{ for } \\phi^2. \\\\\n",
    "\\phi^4 &= 3 \\phi + 2\n",
    "\\end{align}\n",
    "$$  \n",
    "\n",
    "Continuing for higher powers:  \n",
    "\n",
    "$$\\begin{align}\n",
    "\\phi^5 &= 5\\phi + 3\\\\\n",
    "\\phi^6 &= 8\\phi + 5\\\\\n",
    "\\phi^7 &= 13\\phi + 8\\\\\n",
    "\\end{align}\n",
    "$$ "
   ]
  },
  {
   "cell_type": "code",
   "execution_count": 2,
   "id": "b678ccc1-fd92-42a3-987e-9c90dc383702",
   "metadata": {},
   "outputs": [
    {
     "data": {
      "text/latex": [
       "$\\displaystyle \\phi^{2} = \\phi + 1$"
      ],
      "text/plain": [
       "Eq(\\phi**2, \\phi + 1)"
      ]
     },
     "metadata": {},
     "output_type": "display_data"
    },
    {
     "data": {
      "text/latex": [
       "$\\displaystyle \\phi^{3} = 2 \\phi + 1$"
      ],
      "text/plain": [
       "Eq(\\phi**3, 2*\\phi + 1)"
      ]
     },
     "metadata": {},
     "output_type": "display_data"
    },
    {
     "data": {
      "text/latex": [
       "$\\displaystyle \\phi^{4} = 3 \\phi + 2$"
      ],
      "text/plain": [
       "Eq(\\phi**4, 3*\\phi + 2)"
      ]
     },
     "metadata": {},
     "output_type": "display_data"
    },
    {
     "data": {
      "text/latex": [
       "$\\displaystyle \\phi^{5} = 5 \\phi + 3$"
      ],
      "text/plain": [
       "Eq(\\phi**5, 5*\\phi + 3)"
      ]
     },
     "metadata": {},
     "output_type": "display_data"
    },
    {
     "data": {
      "text/latex": [
       "$\\displaystyle \\phi^{6} = 8 \\phi + 5$"
      ],
      "text/plain": [
       "Eq(\\phi**6, 8*\\phi + 5)"
      ]
     },
     "metadata": {},
     "output_type": "display_data"
    },
    {
     "data": {
      "text/latex": [
       "$\\displaystyle \\phi^{7} = 13 \\phi + 8$"
      ],
      "text/plain": [
       "Eq(\\phi**7, 13*\\phi + 8)"
      ]
     },
     "metadata": {},
     "output_type": "display_data"
    },
    {
     "data": {
      "text/latex": [
       "$\\displaystyle \\phi^{8} = 21 \\phi + 13$"
      ],
      "text/plain": [
       "Eq(\\phi**8, 21*\\phi + 13)"
      ]
     },
     "metadata": {},
     "output_type": "display_data"
    }
   ],
   "source": [
    "p = phi\n",
    "for i in range(2, 9):\n",
    "    p = sym.expand(p * phi).subs(phi**2, phi + 1)\n",
    "    display(sym.Eq(phi ** i, p))"
   ]
  },
  {
   "cell_type": "markdown",
   "id": "ce8db1db-0687-4794-a181-b9058b0bfbcc",
   "metadata": {},
   "source": [
    "Amazingly, the coefficient on $\\phi$ and integer term are both Fibonacci numbers! It can be shown that in general  \n",
    "\n",
    "\n",
    "$$\\begin{equation}\\label{eqn:phin}\n",
    "\\phi^n = F_n \\cdot \\phi + F_{n-1} \\ \\text{for any integer }n. \\tag{1} \n",
    "\\end{equation}$$\n",
    "\n",
    "\n",
    "\n",
    "Since $\\pb$ is the other solution of $x^2 = x + 1=0$, a similar result holds:  \n",
    "\n",
    "$$\\begin{equation}\\label{eqn:phibn}\n",
    "\\pbn{n} = F_n \\cdot \\pb + F_{n-1} \\ \\text{for any integer }n. \\tag{2} \n",
    "\\end{equation}$$\n",
    "\n",
    "## Formulas to Directly Calculate $F_n$ and $L_n$\n",
    "\n",
    "Subtract $(\\ref{eqn:phin})$ from $(\\ref{eqn:phibn})$:  \n",
    "\n",
    "$$\\begin{align}\n",
    "\\phi^n-\\pbn{n} &= F_n(\\phi - \\pb) \\\\\n",
    "\\frac{\\phi^n-\\pbn{n}}{\\phi - \\pb} &= F_n \\\\\n",
    "\\frac{\\phi^n-\\pbn{n}}{\\sqrt 5} &= F_n\n",
    "\\end{align}\n",
    "$$\n",
    "\n",
    "Hence we have arrived at Binet's formula:  \n",
    " \n",
    "$$\\begin{equation}\\label{eq:3}\n",
    "F_n = \\frac{\\phi^n-\\pbn{n}}{\\sqrt 5} \\tag{3} \n",
    "\\end{equation}$$\n",
    "\n",
    "Recall the Lucas sequence $L_n$ defined in terms of Fibonaccci numbers by the relation $L_n = F_{n+1} + F_{n-1}$. Taking the sum of $(\\ref{eqn:phin})$ and $(\\ref{eqn:phibn})$ leads to the formula for Lucas numbers:  \n",
    "\n",
    "$$\\begin{align}\n",
    "\\phi^n+\\pbn{n} &= F_n(\\phi + \\pb) + 2 F_{n-1} && \\text{Apply } \\phi + \\pb = 1.\\\\\n",
    " &= F_n + 2 F_{n-1} && \\text{Apply } F_{n-1} = F_{n+1} - F_{n}.\\\\\n",
    " &= F_{n+1} + F_{n-1} && \\text{Apply the Lucas definition } L_n=F_{n+1} + F_{n-1}\\\\\n",
    "\\phi^n+\\pbn{n} &= L_n\n",
    "\\end{align}\n",
    "$$\n",
    "\n",
    "Thus the Lucas number analog to Binet's formula is:  \n",
    " \n",
    "$$\\begin{equation}\\label{eq:4}\n",
    "L_n = \\phi^n-\\pbn{n} \\tag{4} \n",
    "\\end{equation}$$\n",
    "\n",
    "## Other Formulations of $\\phi^n$ and $\\pbn{n}$\n",
    "\n",
    "Compare the Lucas formula $(\\ref{eq:4})$ to a slightly rearranged Binet formula:  \n",
    "\n",
    "$$\n",
    "\\sqrt 5 F_n = \\phi^n-\\pbn{n} \\tag{3'} \\label{eq:3'}\n",
    "$$\n",
    "\n",
    "Using $\\ref{eq:4}$ and $\\ref{eq:3'}$ to solve for $\\phi^n$ and $\\pbn{n}$ leads to another fascinating pair of results:  \n",
    "\n",
    "$$\\phi^n = \\frac{L_n + F_n \\sqrt 5}{2} \\quad \\text{and} \\quad \\pbn{n} = \\frac{L_n - F_n \\sqrt 5}{2} \\tag{5} \\label{eq:5}\n",
    "$$\n",
    "\n",
    "## Reversal of the Lucas Sequence Definition  \n",
    "\n",
    "One way to define the Lucas sequence is $L_n = F_{n+1} + F_{n-1}$. Then it's natural to wonder if $L_{n+1}+L_{n-1}$ has any special meaning. Yes:  \n",
    "\n",
    "$$\n",
    "\\begin{align}\n",
    "L_{n+1}+L_{n-1} &= F_{n+2} + F_n + F_n+ F_{n-2} && \\text{Apply the Lucas definition twice.} \\\\\n",
    "&= F_{n+2} + 2F_{n} + F_{n-2} && \\text{Substitute } F_{n+1} + F_{n} \\text{ for } F_{n+2} \\text{ and } F_{n} - F_{n-1}\n",
    "    \\text{ for } F_{n-2}.\\\\\n",
    "&= F_{n+1} + 4F_{n} - F_{n-1} && \\text{Substitute } F_{n} \\text{ for } F_{n+1} - F_{n-1}.\\\\\n",
    "L_{n+1}+L_{n-1} &= 5F_n \\tag{6} \\label{eq:6}\n",
    "\\end{align}\n",
    "$$  \n",
    "\n",
    "So we have another nice equation pair:  \n",
    "$$ F_{n+1}+F_{n-1} = L_n \\text{ and } L_{n+1}+L_{n-1} = 5F_n $$  \n",
    "\n",
    "## $\\phi^n \\sqrt 5$ and $\\pbn{n} \\sqrt 5$  \n",
    "\n",
    "$\\phi^n \\sqrt 5$  takes a special form when we apply the first equation of $(\\ref{eq:5})$:  \n",
    "\n",
    "$$ \\begin{align}\n",
    "\\phi^n \\sqrt 5 &= && \\text{Apply (\\ref{eq:5}).} \\\\\n",
    "& = \\frac{L_n + F_n \\sqrt 5}{2} \\sqrt 5 && \\text{Multiply.}\\\\\n",
    "&= \\frac{\\sqrt 5 L_n + 5F_n}{2} && \\text{Apply the Lucas definition } L_n = F_{n+1} + F_{n-1} \\\\\n",
    "& && \\text{ and its counterpart }(\\ref{eq:6}). \\\\\n",
    "&= \\frac{\\sqrt 5 (F_{n+1} + F_ {n-1}) + (L_{n+1} + L_{n-1})}{2} && \\text{Rearrange terms.} \\\\\n",
    "&= \\frac{L_{n+1} + \\sqrt 5 F_{n+1}}{2} + \\frac{L_{n-1} + \\sqrt 5 F_{n-1}}{2} && \\text{Apply (\\ref{eq:5}) twice.} \\\\\n",
    "&= \\phi^{n+1} + \\phi^{n-1}.\n",
    "\\end{align}$$  \n",
    "\n",
    "A similar result holds for $\\pb$, but recall that $\\pb = \\frac{1-\\sqrt 5}{2}$ is negative so there is a sign change. Thus we discover another pair of results:  \n",
    "\n",
    "$$ \\phi^n \\sqrt 5 = \\phi^{n+1} + \\phi^{n-1} \\text{ and } \\pbn{n} \\sqrt 5= -\\left(\\pbn{n+1} + \\pbn{n-1} \\right) \\tag{7} \\label{eq:7}$$"
   ]
  },
  {
   "cell_type": "code",
   "execution_count": null,
   "id": "5c6cecec-198a-4998-822c-6383623d146f",
   "metadata": {},
   "outputs": [],
   "source": []
  }
 ],
 "metadata": {
  "kernelspec": {
   "display_name": "Python 3 (ipykernel)",
   "language": "python",
   "name": "python3"
  },
  "language_info": {
   "codemirror_mode": {
    "name": "ipython",
    "version": 3
   },
   "file_extension": ".py",
   "mimetype": "text/x-python",
   "name": "python",
   "nbconvert_exporter": "python",
   "pygments_lexer": "ipython3",
   "version": "3.10.6"
  }
 },
 "nbformat": 4,
 "nbformat_minor": 5
}