{
 "cells": [
  {
   "cell_type": "markdown",
   "id": "e70354dc-abc0-4f5d-be1c-d1f5b04d977a",
   "metadata": {
    "tags": []
   },
   "source": [
    "$\\newcommand{\\ov}[2]{\\overline{\\smash{#1}\\vphantom{#2}}}$\n",
    "$\\newcommand{\\pb}[0]{\\ov{\\phi}{;}}$\n",
    "$\\newcommand{\\cb}[0]{\\ov{C}{;}}$\n",
    "$\\newcommand{\\pbn}[1]{\\pb\\vphantom{}^{#1}}$\n",
    "$\\newcommand{\\Pb}[0]{\\ov{\\Phi}{;}}$\n",
    "$\\newcommand{\\Pbn}[1]{\\Pb\\vphantom{}^{#1}}$\n",
    "# The Fibonacci Matrix\n",
    "\n",
    "## The Fibonacci Sequence Defined\n",
    "\n",
    "The Fibonacci sequence which starts $1, 1, 2, 3, 5, 8,..$ is governed by the rule that each value after the two initial $1$s is the sum of the two values before it. In mathematical notation:  \n",
    "\n",
    "$$ F_1=1, F_2=1, \\text{and } F_n = F_{n-1} + F_{n-2} \\text{ for all integers } n>2.$$  \n",
    "\n",
    "The sequence and be extended to calculate a $0$th value $F_0$, a $-1$th value $F_{-1}$, etc. One only need to reverse the recursive formula $F_n = F_{n-1} + F_{n-2}$ by solving for $F_{n-2}$, yielding $ F_{n-2} = F_{n} - F_{n-1}$. Then $F_n$ can be calculated for $n=0$ and negative $n$:  \n",
    "\n",
    "$$ \\begin{align}\n",
    "F_0 &= F_2 - F_1 = 1-1 = 0 \\\\\n",
    "F_{-1} &= F_1 - F_0 = 1-0 = 1 \\\\\n",
    "F_{-2} &= F_0 - F_{-1} = 0-1 = -1, \\text{etc.} \\\\\n",
    "\\end{align} $$\n",
    "\n",
    "So for our purposes, let's regard Fibonacci numbers $F_n$ as valid for all integer values of $n$ positive, negative, and zero. Specifically, let's remember $F_0 = 0$ and $F_{-1}=1$ because we'll use those values soon.\n",
    "\n",
    "## The Fibonacci Sequence as a Linear Combination and the Fibonacci Matrix\n",
    "\n",
    "The formula $F_n = F_{n-1} + F_{n-2}$ which appears in the Fibonacci definition shows that each value in the series can be expressed as a linear combination of previous values. We can take advantage of this structure to represent Fibonacci numbers in the notation of linear algebra. Each Fibonacci number is a linear combination of two other values, so let's define a two-element Fibonacci vector:  \n",
    "\n",
    "$$\\vec{F_n} = \n",
    "\\left[ \\begin{matrix}\n",
    "F_n \\\\ F_{n-1}\n",
    "\\end{matrix} \\right]\n",
    "$$\n",
    "\n",
    "Then the operation which transforms $\\vec{F_n}$ into $\\vec{F_{n+1}}$ is linear. It can be implemented by multiplying by the $2 \\times 2$ Fibonacci matrix:  \n",
    "\n",
    "$$ \\Phi = \n",
    "\\left[\\begin{matrix}\n",
    "1 & 1\\\\\n",
    "1 & 0\n",
    "\\end{matrix}\\right]\n",
    "$$\n",
    "\n",
    "One reason for denoting this matrix with the Greek letter $\\Phi$ is because $\\Phi$ is the counterpart to the Latin letter $F$. Another reason is that, as we'll see later, the matrix $\\Phi$ also mimics many of the properties of the golden ratio $\\phi$.\n",
    "\n",
    "So now we have  \n",
    "\n",
    "$$\\Phi \\vec{F_n} = \\vec{F_{n+1}}$$"
   ]
  },
  {
   "cell_type": "code",
   "execution_count": 9,
   "id": "899f6adc-76cc-4dd9-8ab4-42087a7521ff",
   "metadata": {},
   "outputs": [
    {
     "data": {
      "text/latex": [
       "$\\displaystyle \\Phi = \\left[\\begin{matrix}1 & 1\\\\1 & 0\\end{matrix}\\right]$"
      ],
      "text/plain": [
       "Eq(\\Phi, Matrix([\n",
       "[1, 1],\n",
       "[1, 0]]))"
      ]
     },
     "metadata": {},
     "output_type": "display_data"
    },
    {
     "data": {
      "text/latex": [
       "$\\displaystyle \\Phi \\left[\\begin{matrix}F_{n}\\\\F_{n-1}\\end{matrix}\\right] = \\left[\\begin{matrix}F_{n} + F_{n-1}\\\\F_{n}\\end{matrix}\\right]$"
      ],
      "text/plain": [
       "Eq(\\Phi*Matrix([\n",
       "[    F_n],\n",
       "[F_{n-1}]]), Matrix([\n",
       "[F_n + F_{n-1}],\n",
       "[          F_n]]))"
      ]
     },
     "metadata": {},
     "output_type": "display_data"
    }
   ],
   "source": [
    "from sympy import *\n",
    "PhiMat = Matrix([[1, 1], [1, 0]])\n",
    "Fnp1, Fn, Fnm1= symbols('F_{n+1}, F_n, F_{n-1}')\n",
    "Phi = MatrixSymbol(r'\\Phi', 2, 2)\n",
    "FnVec = Matrix(2, 1, [Fn, Fnm1])\n",
    "Fnp1Vec = Matrix(2, 1, [Fnp1, Fn])\n",
    "display(Eq(Phi, PhiMat, evaluate=False))\n",
    "display(Eq(Phi * FnVec, PhiMat * FnVec, evaluate=False))"
   ]
  },
  {
   "cell_type": "markdown",
   "id": "990f4d82-504a-4e55-ab1b-cace16c7a154",
   "metadata": {
    "tags": []
   },
   "source": [
    "$\\Phi$ is invertible with  \n",
    "\n",
    "$$ \\Phi^{-1} = \\left[\\begin{matrix}\n",
    "0 & -1\\\\\n",
    "-1 & 1\n",
    "\\end{matrix}\\right]$$\n",
    "\n",
    "Then we can use powers of $\\Phi$ to calculate any Fibonacci vector with  \n",
    "\n",
    "$$\\Phi^{n} \\vec{F_0} = \\vec{F_n} \\text{ for any integer } n.$$\n",
    "\n",
    "And more generally  \n",
    "\n",
    "$$\\Phi^{n} \\vec{F_k} = \\vec{F_{k+n}} \\text{ for any integers } n \\text{ and } k.$$"
   ]
  },
  {
   "cell_type": "code",
   "execution_count": 22,
   "id": "7f161b6b-d739-4671-81cf-2588ed44809b",
   "metadata": {},
   "outputs": [
    {
     "data": {
      "text/latex": [
       "$\\displaystyle \\Phi^{-1} = \\left[\\begin{matrix}0 & 1\\\\1 & -1\\end{matrix}\\right]$"
      ],
      "text/plain": [
       "Eq(\\Phi**(-1), Matrix([\n",
       "[0,  1],\n",
       "[1, -1]]))"
      ]
     },
     "metadata": {},
     "output_type": "display_data"
    },
    {
     "data": {
      "text/latex": [
       "$\\displaystyle \\Phi^{10} \\vphantom{z}F_0 = \\left[\\begin{matrix}55\\\\34\\end{matrix}\\right]$"
      ],
      "text/plain": [
       "Eq(\\Phi**10*\\vphantom{z}F_0, Matrix([\n",
       "[55],\n",
       "[34]]))"
      ]
     },
     "metadata": {},
     "output_type": "display_data"
    },
    {
     "data": {
      "text/latex": [
       "$\\displaystyle \\Phi^{-10} \\vphantom{z}F_0 = \\left[\\begin{matrix}-55\\\\89\\end{matrix}\\right]$"
      ],
      "text/plain": [
       "Eq(\\Phi**(-10)*\\vphantom{z}F_0, Matrix([\n",
       "[-55],\n",
       "[ 89]]))"
      ]
     },
     "metadata": {},
     "output_type": "display_data"
    }
   ],
   "source": [
    "display(Eq(Phi ** -1, PhiMat ** -1, evaluate=False))\n",
    "F0 = Symbol(r'\\vphantom{z}F_0')\n",
    "F0vec = Matrix(2, 1, [0, 1])\n",
    "#An example with n = 10\n",
    "display(Eq(MatMul(Phi ** 10, F0), PhiMat  ** 10 * F0vec, evaluate=False)) #F_10=55 and F_9=34\n",
    "#An example with n = -10\n",
    "display(Eq(MatMul(Phi ** -10, F0), PhiMat  ** -10 * F0vec, evaluate=False)) #F_-10=-55 and F_-11=89"
   ]
  },
  {
   "cell_type": "markdown",
   "id": "7f69670d-165c-402c-ac71-6db74998965b",
   "metadata": {
    "tags": []
   },
   "source": [
    "At this point, it might not be obvious what's inside the matrix $\\Phi^n$. But the values are easy to reveal because remember that $\\vec{F_1} = \\left[\\begin{matrix} F_1 \\\\ F_0 \\end{matrix}\\right] $ and $\\vec{F_0} = \\left[\\begin{matrix} F_0 \\\\ F_{-1} \\end{matrix}\\right]$ are the unit vectors $ \\left[\\begin{matrix} 1 \\\\ 0 \\end{matrix}\\right] $ and $ \\left[\\begin{matrix} 0 \\\\ 1 \\end{matrix}\\right] $, respectively. \n",
    "\n",
    "So the left column of $\\Phi^n$ is given by  \n",
    "\n",
    "$$\\Phi^n \\left[\\begin{matrix} 1 \\\\ 0 \\end{matrix}\\right] = \\Phi^n \\vec{F_1}  = \\vec{F_{n+1}} = \\left[\\begin{matrix} F_{n+1} \\\\ F_n \\end{matrix}\\right] $$  \n",
    "\n",
    "and likewise the right column of $\\Phi^n$ is  \n",
    "\n",
    "$$\\Phi^n \\left[\\begin{matrix} 0 \\\\ 1 \\end{matrix}\\right] = \\Phi^n \\vec{F_0}  = \\vec{F_{n}} = \\left[\\begin{matrix} F_{n} \\\\ F_{n-1} \\end{matrix}\\right] $$  \n",
    "\n",
    "Therefore, we have  \n",
    "\n",
    "$$\\Phi^n = \\left[\\begin{matrix}\n",
    "F_{n+1} & F_n\\\\\n",
    "F_n & F_{n-1}\n",
    "\\end{matrix}\\right] $$\n",
    "\n",
    "Seeing that $\\Phi^n$ contains $F_n$, it can be practical to dispense with the $\\vec{F_n}$ vector and regard $\\Phi^n$ as representative of $F_n$. "
   ]
  },
  {
   "cell_type": "code",
   "execution_count": 23,
   "id": "a19b231b-1f9a-4d8f-b545-c25f4c490e0e",
   "metadata": {},
   "outputs": [
    {
     "data": {
      "text/latex": [
       "$\\displaystyle \\Phi^{10} = \\left[\\begin{matrix}89 & 55\\\\55 & 34\\end{matrix}\\right]$"
      ],
      "text/plain": [
       "Eq(\\Phi**10, Matrix([\n",
       "[89, 55],\n",
       "[55, 34]]))"
      ]
     },
     "metadata": {},
     "output_type": "display_data"
    }
   ],
   "source": [
    "#Phi^n with n=10 for example.\n",
    "#F_11 = 89, F_10 = 55, F_9 = 34\n",
    "display(Eq(Phi ** 10, PhiMat ** 10, evaluate=False))"
   ]
  },
  {
   "cell_type": "markdown",
   "id": "9fd06d55-440a-4e15-91b5-f8762e80c38c",
   "metadata": {
    "tags": []
   },
   "source": [
    "## The Lucas Matrix\n",
    "\n",
    "Recalling the definition of the Lucas sequence $L_n = F_{n-1} + F_{n+1}$, which defines the Lucas numbers as a linear combination of Fibonacci numbers, it is possible to implement this definition with matrix algebra.  \n",
    "\n",
    "$$\n",
    "\\Phi^{n-1} + \\Phi^{n+1} = \n",
    "\\left[\\begin{matrix}\n",
    "F_n & F_{n-1} \\\\\n",
    "F_{n-1} & F_{n-2}\n",
    "\\end{matrix}\\right] +\n",
    "\\left[\\begin{matrix}\n",
    "F_{n+2} & F_{n+1} \\\\\n",
    "F_{n+1} & F_{n}\n",
    "\\end{matrix}\\right] =\n",
    "\\left[\\begin{matrix}\n",
    "L_{n+1} & L_{n} \\\\\n",
    "L_{n} & L_{n-1}\n",
    "\\end{matrix}\\right]\n",
    "$$\n",
    "\n",
    "Let's call the last matrix a Lucas matrix and denote it $\\Lambda_n$. I choose the letter Lambda $(\\Lambda)$, the Greek counterpart to the letter $L$. \n",
    "\n",
    "We might choose to define a special matrix that converts the Fibonacci matrix $\\Phi^n$ to the Lucas matrix $\\Lambda_n$. Since the matrix __converts__ one sequence to another I'll denote it $C$.  \n",
    "\n",
    "$$\n",
    "C = \\Phi^{-1} + \\Phi = \n",
    "\\left[\\begin{matrix}\n",
    "1 & 2\\\\\n",
    "2 & -1\n",
    "\\end{matrix}\\right]\n",
    "$$\n",
    "\n",
    "$C = \\Lambda_0$, but I regard the matrix as special enough to deserve its own label. The product of a Lucas matrix with a Fibonacci matrix is another Lucas matrix. All the matrices we're analyzing are symmetric, so multiplication is commutative:  \n",
    "\n",
    "$$\n",
    "\\Phi^n \\Lambda_k = C \\Phi^n \\Phi^k = C \\Phi^{n+k} = \\Lambda_{n+k}.\n",
    "$$\n",
    "\n",
    "Then what is the product of two Lucas matrices? Knowing that the equation $L_n = F_{n-1} + F_{n+1}$ defines the Lucas numbers, it is possible to show that $5F_n = L_{n-1} + L_{n+1}$. This is a clue. In fact it turns out that $C^2 = 5I$, where $I$ denotes the $2 \\times 2$ identity matrix.\n",
    "\n",
    "$$\n",
    "\\Lambda_{n}\\Lambda_{k} = C^2 \\Phi^n \\Phi^k = C^2 \\Phi^{n+k} = 5\\Phi^{n+k}.\n",
    "$$\n",
    "\n",
    "## $\\Phi$ Mimics the Golden Ratio $\\phi$\n",
    "\n",
    "The Fibonacci matrix $\\Phi$ mimics the properties of the golden ratio $\\phi$. Let's recap the properties of the scalar $\\phi$ and its rational conjugate $\\pb$.   \n",
    "\n",
    "$$\\begin{align} \\phi &= \\frac{1+\\sqrt 5}{2} && \\pb = \\frac{1-\\sqrt 5}{2}\\end{align} \\\\[5pt] $$\n",
    "$$\\begin{align} &\\phi + \\pb = 1 && \\quad \\phi - \\pb = \\sqrt 5 &&&& \\phi \\times \\pb = -1 \\end{align}\\\\[5pt]$$\n",
    "$$\\begin{align}\n",
    "\\phi^n &= \\frac{L_n+F_n\\sqrt 5}{2} && \\pbn{n} = \\frac{L_n-F_n\\sqrt 5}{2} \\\\[5pt]\n",
    "L_n &= \\phi^n + \\pbn{n} && F_n = \\frac{\\phi^n - \\pbn{n}}{\\sqrt 5} \\\\[5pt]\n",
    "\\sqrt 5 \\cdot \\phi^n &= \\phi^{n-1} + \\phi^{n+1} && \\sqrt 5 \\cdot \\pbn{n} = -(\\pbn{n-1} + \\pbn{n+1}) \\\\\n",
    "\\end{align}$$\n",
    "$$\\begin{align} \\phi^n &= F_n \\cdot \\phi + F_{n-1}  &&\\pbn{n} = F_n \\cdot \\pb + F_{n-1} \\end{align}$$  \n",
    "\n",
    "Recalling that $C$ is a matrix square root of $5I$, it is notable that $\\Phi = \\frac{I+C}{2}$. Further, we may define $\\Pb = \\frac{I-C}{2}$ and amazingly these two matrices mimic all the above listed properties of $\\phi$ and $\\pb$!  \n",
    "\n",
    "$$\\begin{align} \\Phi &= \\frac{I+C}{2} && \\Pb = \\frac{I-C}{2}\\end{align} \\\\[5pt] $$\n",
    "$$\\begin{align} &\\Phi + \\Pb = I && \\quad \\Phi - \\Pb = C &&&& \\Phi \\times \\Pb = -I \\end{align}\\\\[5pt]$$\n",
    "$$\\begin{align}\n",
    "\\Phi^n &= \\frac{L_n\\cdot I+F_n\\cdot C}{2} && \\Pbn{n} = \\frac{L_n \\cdot I-F_n \\cdot C}{2} \\\\[5pt]\n",
    "L_n\\cdot I &= \\Phi ^n + \\Pbn{n} && F_n\\cdot I = (\\Phi^n - \\Pbn{n})C^{-1} \\\\[5pt]\n",
    "C \\cdot \\Phi^n &= \\Phi^{n-1} + \\Phi^{n+1} && C \\cdot \\Pbn{n} = -(\\Pbn{n-1} + \\Pbn{n+1}) \\\\\n",
    "\\end{align}$$\n",
    "$$\\begin{align} \\Phi^n &= F_n \\cdot \\Phi + F_{n-1}\\cdot  I  &&\\Pbn{n} = F_n \\cdot \\Pb + F_{n-1} \\cdot I \\end{align}$$\n",
    "\n",
    "Earlier we saw that $\\Phi^n$ can represent $F_n$; Now $\\Phi^n$ mimics $\\phi^n$. It always seems to take one form or the other upon observation; Perhaps we should call it Schrodinger's matrix!\n",
    "\n",
    "## About Square Roots of $5I$\n",
    "\n",
    "Matrix $C$ was constructed to convert Fibonacci numbers to Lucas numbers. The fact that $C$ is a matrix square root of $5I$ seemed to occur by happenstance. There are infinitely matrices which are square roots of $5I$. Some examples:  \n",
    "\n",
    "$$ \\left[\\begin{matrix}\n",
    "\\sqrt 5 & 0\\\\\n",
    "0 & -\\sqrt 5\n",
    "\\end{matrix}\\right] \\quad\n",
    "\\left[\\begin{matrix}\n",
    "0 & 1\\\\\n",
    "5 & 0\n",
    "\\end{matrix}\\right] \\quad\n",
    "\\left[\\begin{matrix}\n",
    "2 & 1\\\\\n",
    "1 & -2\n",
    "\\end{matrix}\\right] \\quad\n",
    "\\left[\\begin{matrix}\n",
    "\\sqrt 8 & \\sqrt 3\\\\\n",
    "-\\sqrt 3 & -\\sqrt 8\n",
    "\\end{matrix}\\right]\n",
    "$$\n",
    "\n",
    "The Fibonacci matrix $\\Phi$ and its relative $\\Pb$ are not the only matrices that mimic the properties of scalars $\\phi$ and $\\pb$. Let $R$ denote an arbitrary $2 \\times 2$ matrix with the property that $R^2 = 5I$. Define $\\Phi_R = \\frac{I+R}{2}$ and $\\Pb_R = \\frac{I-R}{2}$. Then $\\Phi_R$ and $\\Pb_R$ also will mimic $\\phi$ and $\\pb$ in exactly the same way."
   ]
  },
  {
   "cell_type": "code",
   "execution_count": null,
   "id": "192ac151-ee63-43ce-88f4-0d2ee28ca99c",
   "metadata": {},
   "outputs": [],
   "source": []
  }
 ],
 "metadata": {
  "kernelspec": {
   "display_name": "Python 3 (ipykernel)",
   "language": "python",
   "name": "python3"
  },
  "language_info": {
   "codemirror_mode": {
    "name": "ipython",
    "version": 3
   },
   "file_extension": ".py",
   "mimetype": "text/x-python",
   "name": "python",
   "nbconvert_exporter": "python",
   "pygments_lexer": "ipython3",
   "version": "3.10.9"
  }
 },
 "nbformat": 4,
 "nbformat_minor": 5
}
