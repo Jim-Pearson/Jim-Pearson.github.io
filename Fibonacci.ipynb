{
 "cells": [
  {
   "cell_type": "markdown",
   "id": "857762c2-48ba-488d-a221-fc89443a50d2",
   "metadata": {},
   "source": [
    "$\\newcommand{\\ov}[2]{\\overline{\\smash{#1}\\vphantom{#2}}}$\n",
    "$\\newcommand{\\pb}[0]{\\ov{\\phi}{;}}$\n",
    "$\\newcommand{\\cb}[0]{\\ov{C}{;}}$\n",
    "$\\newcommand{\\pbn}[1]{\\pb\\vphantom{}^{#1}}$\n",
    "\n",
    "# The Fibonacci Sequence, Lucas Numbers, and the Golden Ratio  \n",
    "## Fibonacci Sequence  \n",
    "The Fibonacci sequence, aka Fibonacci numbers, is simple enough to be taught in primary schools. Its first few values are:\n",
    "\n",
    "$$1, 1, 2, 3, 5, 8...$$\n",
    "\n",
    "See that after the two $1$s at the beginning, each value is the sum of the two values before it. More formally, the sequence is defined recursively by setting the first two elements of the sequence equal to $1$ and then applying the rule that each subsequent element is equal to the sum of its two immediate predecessors:\n",
    "\n",
    "$$ F_1=1, F_2=1, \\text{and } F_n = F_{n-1} + F_{n-2} \\text{ for all integers } n>2.$$  \n",
    "\n",
    "Let's calculate the 15th Fibonacci number with a simple Python code."
   ]
  },
  {
   "cell_type": "code",
   "execution_count": 1,
   "id": "f6baefff-633f-4903-82c6-50719d6fdeef",
   "metadata": {},
   "outputs": [],
   "source": [
    "n=15"
   ]
  },
  {
   "cell_type": "code",
   "execution_count": 2,
   "id": "4ce8b1ec-b5e9-47d2-b51e-62889e6e1d6d",
   "metadata": {},
   "outputs": [
    {
     "data": {
      "text/plain": [
       "610"
      ]
     },
     "execution_count": 2,
     "metadata": {},
     "output_type": "execute_result"
    }
   ],
   "source": [
    "def Fib1(n):\n",
    "    if n < 3:\n",
    "        return 1\n",
    "    else:\n",
    "        Fim2 = 1 # i-2 Fibonacci number\n",
    "        Fim1 = 1 # i-1 Fibonacci number\n",
    "        for i in range(3,n+1):\n",
    "            Fi = Fim2 + Fim1\n",
    "            Fim2 = Fim1\n",
    "            Fim1 = Fi\n",
    "        return Fi\n",
    "\n",
    "Fib1(n)"
   ]
  },
  {
   "cell_type": "code",
   "execution_count": 3,
   "id": "e1b1197b-6d7d-47c4-a68c-51ee64aa41ac",
   "metadata": {},
   "outputs": [
    {
     "name": "stdout",
     "output_type": "stream",
     "text": [
      "The first 20 values in the Fibonacci sequence:\n",
      "1 1 2 3 5 8 13 21 34 55 89 144 233 377 610 987 1597 2584 4181 "
     ]
    }
   ],
   "source": [
    "print(\"The first 20 values in the Fibonacci sequence:\")\n",
    "for i in range(1,20):\n",
    "    print(Fib1(i), end=\" \")"
   ]
  },
  {
   "cell_type": "markdown",
   "id": "fa0cab84-61f1-4683-9a74-2b94dba63ca5",
   "metadata": {},
   "source": [
    "## Fibonacci Sequence for Negative Indices  \n",
    "The Fib1() function above only delivers valid results for counting numbers $1, 2, 3...$ Notice that the sequence definition says nothing about a zeroth Fibonacci number $F_0$ or negatively indexed Fibonacci numbers, e.g. $F_{-1}$ or $ F_{-5}$. However, there is a manner by which the sequence can be extended to include indices below $1$: We may simply stipulate that the Fibonacci recursion equation also applies to indices less than $1$. Note that the recursion equation $ F_n = F_{n-1} + F_{n-2} $ can be solved for $F_{n-2}$, yielding: $ F_{n-2} = F_{n} - F_{n-1} .$ One might prefer to reindex the equation so it reads $ F_{n} = F_{n+2} - F_{n+1} .$  \n",
    "\n",
    "The equation in its original form said, \"Each Fibonacci number is the sum of its two immediate predecessors\"; Now the rearranged equation illustrates also that \"Each Fibonacci number is the difference of its two immediate successors\". We may apply the equation to calculate values for $F_0, F_{-1}, F_{-2},$ etc. as far as we please.\n",
    "\n",
    "Let's use a function that calculates Fibonacci numbers for any integer index:"
   ]
  },
  {
   "cell_type": "code",
   "execution_count": 4,
   "id": "72769479-c564-48c3-ab68-d655ef4aee34",
   "metadata": {},
   "outputs": [],
   "source": [
    "n=-10"
   ]
  },
  {
   "cell_type": "code",
   "execution_count": 5,
   "id": "98a0268c-cc07-4ebf-b7e9-4e82fd60373a",
   "metadata": {},
   "outputs": [
    {
     "data": {
      "text/plain": [
       "-55"
      ]
     },
     "execution_count": 5,
     "metadata": {},
     "output_type": "execute_result"
    }
   ],
   "source": [
    "def Fib2(n):\n",
    "    if n > 0:\n",
    "        return Fib1(n)\n",
    "    else:\n",
    "        Fip2 = 1\n",
    "        Fip1 = 1\n",
    "        for i in range(0,-n+1):\n",
    "            Fi = Fip2 - Fip1\n",
    "            Fip2 = Fip1\n",
    "            Fip1 = Fi\n",
    "        return Fi\n",
    "\n",
    "Fib2(n)"
   ]
  },
  {
   "cell_type": "markdown",
   "id": "a28464c7-06fd-4208-be82-7d44e28ff203",
   "metadata": {},
   "source": [
    "We find that $F_{-10} = -F_{10}$. A general formula that relates positively and negatively indexed Fibonacci numbers is $F_{-n}=(-1)^{n+1}  F_n .$ In words, the negatively indexed Fibonacci numbers are equal in magnitude to their positively indexed counterparts but alternating in sign. We also find that $F_0=0$."
   ]
  },
  {
   "cell_type": "code",
   "execution_count": 6,
   "id": "b3336704-eb89-4822-9076-6cea4061ca4b",
   "metadata": {},
   "outputs": [
    {
     "name": "stdout",
     "output_type": "stream",
     "text": [
      "The Fibonacci numbers indexed from -5 to 5 are:\n",
      "5 -3 2 -1 1 0 1 1 2 3 5 "
     ]
    }
   ],
   "source": [
    "print(\"The Fibonacci numbers indexed from -5 to 5 are:\")\n",
    "for i in range(-5,6):\n",
    "    print(Fib2(i), end=\" \")"
   ]
  },
  {
   "cell_type": "markdown",
   "id": "20092c2a-5864-4b8f-9d86-67ef59818a86",
   "metadata": {},
   "source": [
    "## The Lucas Sequence  \n",
    "A sequence which is closely related to the Fibonacci sequence is the Lucas sequence $L_n$. (Lucas is a French name and the s is silent). The Lucas sequence is also known as the Lucas numbers. It can be defined similarly to the Fibonacci sequence:  \n",
    "\n",
    "### Lucas Sequence First Definition\n",
    "$$L_1=1, L_2=3, \\text{ and } L_n=L_{n-1}+L_{n-2} \\text{ for any integer } n.$$\n",
    "\n",
    "The definition differs only in the second starting value which is $3$ instead of $1$.\n",
    "\n",
    "An equivalent definition gives the Lucas sequence in terms of Fibonacci:  \n",
    "\n",
    "### Lucas Sequence Second Definition\n",
    "$$L_n = F_{n-1} + F_{n+1} \\text{ for all integers } n. $$  \n",
    "\n",
    "The second definition is can be implemented in code trivially since we already have a Fibonacci function."
   ]
  },
  {
   "cell_type": "code",
   "execution_count": 7,
   "id": "acef11bb-58c6-4467-8dc5-36ba751d552f",
   "metadata": {},
   "outputs": [
    {
     "name": "stdout",
     "output_type": "stream",
     "text": [
      "The Lucas numbers indexed from -5 to 5 are:\n",
      "-11 7 -4 3 -1 2 1 3 4 7 11 "
     ]
    }
   ],
   "source": [
    "def Lucas2(n):\n",
    "    return Fib2(n-1) + Fib2(n+1)\n",
    "\n",
    "print(\"The Lucas numbers indexed from -5 to 5 are:\")\n",
    "for i in range(-5,6):\n",
    "    print(Lucas2(i), end=\" \")"
   ]
  },
  {
   "cell_type": "markdown",
   "id": "3c7f7027-5f26-4786-84f8-a7e66a6fb69b",
   "metadata": {},
   "source": [
    "Focus on the negatively indexed elements of the two sequences."
   ]
  },
  {
   "cell_type": "code",
   "execution_count": 8,
   "id": "4b108a33-ef7a-4d6a-bf5d-b5fc6ecf9fcd",
   "metadata": {},
   "outputs": [
    {
     "name": "stdout",
     "output_type": "stream",
     "text": [
      "Sequence values indexed from -5 to -1:\n",
      "Fibonacci: 5 -3 2 -1 1 \n",
      "Lucas:   -11 7 -4 3 -1 "
     ]
    }
   ],
   "source": [
    "print(\"Sequence values indexed from -5 to -1:\")\n",
    "print(\"Fibonacci:\", end=\" \")\n",
    "for i in range(-5,0):\n",
    "    print(Fib2(i), end=\" \")\n",
    "print()\n",
    "print(\"Lucas:  \", end=\" \")\n",
    "for i in range(-5,0):\n",
    "    print(Lucas2(i), end=\" \")\n"
   ]
  },
  {
   "cell_type": "markdown",
   "id": "2e1df9b1-adb9-4c9d-b567-0a0e03ea638b",
   "metadata": {},
   "source": [
    "It can be seen that as is the case with Fibonacci numbers, negatively indexed Lucas numbers are alternating in sign. However it is curious that the __evenly__ indexed Fibonacci elements are negative and the __oddly__ index elements are positive whereas with the Lucas numbers the opposite holds.\n",
    "\n",
    "Again, the equation that relates positively and negatively indexed Fibonacci numbers is: $F_{-n}=(-1)^{n+1}  F_n .$  \n",
    "The analogous formula for Lucas numbers is: $L_{-n}=(-1)^{n}  L_n .$"
   ]
  },
  {
   "cell_type": "markdown",
   "id": "44990222-1b98-4885-988b-b60066c9b9c7",
   "metadata": {},
   "source": [
    "## The Golden Ratio\n",
    "\n",
    "The Fibonacci numbers famously exhibit the property that the ratios of successive terms approach $ \\phi = \\frac{1+\\sqrt{5}}{2} \\approx 1.61803398875 $, a value known as the golden ratio.  \n",
    "\n",
    "Examples: \n",
    "- $\\frac{F_6}{F_5} = \\frac{8}{5} = 1.6$  \n",
    "- $\\frac{F_{11}}{F_{10}}= \\frac{89}{55} = 1.6\\overline{18}$\n",
    "\n"
   ]
  },
  {
   "cell_type": "code",
   "execution_count": 9,
   "id": "6acc2f4d-2616-49bf-84dd-7e173a90170f",
   "metadata": {},
   "outputs": [
    {
     "name": "stdout",
     "output_type": "stream",
     "text": [
      "Phi is approximately 1.618033988749895\n",
      "F6/F5 = 1.6\n",
      "F11/F10 = 1.6181818181818182\n",
      "F101/F100 = 573147844013817084101/354224848179261915075 = 1.618033988749895\n"
     ]
    }
   ],
   "source": [
    "phi = (1 + 5 ** .5)/2\n",
    "print(f\"Phi is approximately {str(phi)}\")\n",
    "print(f\"F6/F5 = {str(Fib2(6)/Fib2(5))}\")\n",
    "print(f\"F11/F10 = {str(Fib2(11)/Fib2(10))}\")\n",
    "print(f\"F101/F100 = {str(Fib2(101))}/{str(Fib2(100))} = {str(Fib2(101)/Fib2(100))}\")"
   ]
  },
  {
   "cell_type": "markdown",
   "id": "6a848d36-f08b-4720-b6db-89afcede6394",
   "metadata": {},
   "source": [
    "It follows that the Fibonacci numbers are approximately proportional to $\\phi^n$, and so it is possible to directly  approximate Fibonacci sequence values using the golden ratio $\\phi$:  \n",
    "\n",
    "$$F_n \\approx \\frac{\\phi^n}{\\sqrt 5}$$"
   ]
  },
  {
   "cell_type": "code",
   "execution_count": 10,
   "id": "a0987de7-0c75-4b70-bef8-6819f7f2bf2a",
   "metadata": {},
   "outputs": [
    {
     "name": "stdout",
     "output_type": "stream",
     "text": [
      "F10 is 55, which is approximately 55.00363612324743\n"
     ]
    }
   ],
   "source": [
    "n = 10\n",
    "\n",
    "def Fib3(n): #Fibonacci sequence approximator\n",
    "    return phi ** n/5 ** .5\n",
    "\n",
    "print(\"F\" + str(n) + \" is \" + str(Fib2(n)) + \", which is approximately \" + str(Fib3(n)))\n"
   ]
  },
  {
   "cell_type": "markdown",
   "id": "4bec9be2-b156-4b0b-87bb-e69a014eab0a",
   "metadata": {},
   "source": [
    "The observations above raise some questions:\n",
    "- Why do the ratios approach $\\phi$?\n",
    "- Why does $\\sqrt 5$ appear in the approximation formula?\n",
    "- Is there an exact version of the approximation formula?\n",
    "\n",
    "Firstly, the property that ratios of successive sequence values approach $\\phi$ is not particular to the Fibonacci sequence itself. Let's define another sequence $S_n$ which obeys the same recursive property that each element is the sum of the previous two, i.e. $S_n = S_{n-1} + S_{n-2}$. I'll randomly choose $S_1 = 42$ and $S_2 = 34$. Then $\\frac{S_{n+1}}{S_n} \\rightarrow \\phi$, or in words, the ratio of successive terms again approaches the golden ratio. In the code below, feel free to adjust the starting values $S_1$ and $S_2$ as you please and see that $\\frac{S_{n+1}}{S_n} \\rightarrow \\phi$."
   ]
  },
  {
   "cell_type": "code",
   "execution_count": 11,
   "id": "33cb0be3-db61-459d-9658-6e6a16987c93",
   "metadata": {},
   "outputs": [
    {
     "name": "stdout",
     "output_type": "stream",
     "text": [
      "Phi is approximately 1.618033988749895\n",
      "S6/S5 = 1.5913978494623655\n",
      "S11/S10 = 1.6182531894013739\n",
      "S101/S100 = 21238410663146222211642/13126059656852559080942 = 1.618033988749895\n"
     ]
    }
   ],
   "source": [
    "s1 = 42\n",
    "s2 = 34\n",
    "\n",
    "def sSequence(n):\n",
    "    sim2 = s1 # S with index i minus 2\n",
    "    sim1 = s2 # S with index i minus 1\n",
    "    for i in range(3, n+1):\n",
    "        si = sim1 + sim2\n",
    "        sim2 = sim1\n",
    "        sim1 = si\n",
    "    return si\n",
    "\n",
    "print(f\"Phi is approximately {str(phi)}\")\n",
    "print(f\"S6/S5 = {str(sSequence(6)/sSequence(5))}\")\n",
    "print(f\"S11/S10 = {str(sSequence(11)/sSequence(10))}\")\n",
    "print(f\"S101/S100 = {str(sSequence(101))}/{str(sSequence(100))} = {str(sSequence(101)/sSequence(100))}\")"
   ]
  },
  {
   "cell_type": "markdown",
   "id": "033eb513-69a8-4bdf-855b-5beedd923c59",
   "metadata": {},
   "source": [
    "The fact that ratios of successive sequence values approximate $\\phi$ is not specific to the Fibonacci numbers, but is a property of the recurrence relation $S_n = S_{n-1} + S_{n-2}$.\n",
    "\n",
    "The recurrence relation is an example of a difference equation, which can be solved using methods similar to linear ordinary differential equations. This will give us a formula that can directly calculate any Fibonacci number and which will incidentally address the three questions posed above. Let's overview the process step by step. \n",
    "1. Write the characteristic equation for $S_n = S_{n-1} + S_{n-2}$. The since the difference equation is second order, the characteristic equation will be a quadratic polynomial equation.\n",
    "2. Find solutions of the characteristic equation $r_1$ and $r_2$. These solutions will inform the general solution $S_n = C \\cdot r_1^n + \\ov{C}{;} \\cdot\\ov{r_2}{;}\\vphantom{}^n$.  \n",
    "3. Use initial values to solve for the constant coefficients $C$ and $\\cb$.  \n",
    "\n",
    "Now let's follow these steps to find a formula for calculating Fibonacci numbers!\n",
    "\n",
    "## Binet Formula for Fibonacci Numbers\n",
    "\n",
    "Step 1 is to write the characteristic equation, which is done with simple manipulations of the difference equation $S_n = S_{n-1} + S_ {n-2}$. Replace each instance of $S$ with $x$ and change the indices into exponents, yielding the polynomial equation:  \n",
    "$x^n = x^{n-1} + x^{n-2}$.  \n",
    "\n",
    "Now set $n = 2$, yielding the characteristic equation:  \n",
    "\n",
    "$x^2 = x + 1$  \n",
    "\n",
    "Step 1 is done. The idea is that if a value $r$ solves this equation, then $S_n = C \\cdot r^n$ will solve the difference equation $S_n = S_{n-1} + S_{n-2}$ for any constant $C$. Let's continue to step 2: Find the solutions of the characteristic equation which will lead to solutions of the difference equation."
   ]
  },
  {
   "cell_type": "code",
   "execution_count": 12,
   "id": "1042d4a8-da1c-4ad7-a029-3194d38252b6",
   "metadata": {},
   "outputs": [
    {
     "name": "stdout",
     "output_type": "stream",
     "text": [
      "One solution is the golden ratio (1 + sqrt(5))/(2).\n",
      "The other solution is the golden ratio's often neglected close relative (1 - sqrt(5))/(2).\n",
      "The solutions in decimal form are 1.618033988749895 and -0.6180339887498949\n"
     ]
    }
   ],
   "source": [
    "# Solving the characteristic polynomial equation x^2 - x - 1 = 0 using the quadratic formula.\n",
    "# Coefficients\n",
    "a = 1\n",
    "b = -1\n",
    "c = -1\n",
    "\n",
    "# Discriminant\n",
    "d = (b**2) - (4*a*c)\n",
    "\n",
    "# Find the two solutions. I know that the discriminant is 5 > 0, so I'm unaffraid to take its square root.\n",
    "phi = (-b+d ** .5)/(2*a)\n",
    "phibar = (-b-d ** .5)/(2*a)\n",
    "\n",
    "print(\"One solution is the golden ratio (\" + str(-b) + \" + sqrt(\" + str(d) + \"))/(\" + str(2 * a) + \").\")\n",
    "print(\"The other solution is the golden ratio's often neglected close relative (\" + str(-b) + \" - sqrt(\" + str(d) + \"))/(\" + str(2 * a) + \").\")\n",
    "print('The solutions in decimal form are {0} and {1}'.format(phi,phibar))\n"
   ]
  },
  {
   "cell_type": "markdown",
   "id": "ac2f02bd-ef6e-44b2-8503-88bf1660a65a",
   "metadata": {},
   "source": [
    "Skipping the algebra, the solutions of the characteristic equation are the golden ratio $\\phi = \\frac{1+\\sqrt5}{2}$ and its rational conjugate $\\ov{\\phi}{;} = \\frac{1-\\sqrt5}{2}$.  \n",
    "\n",
    "Step 2 is done. It follows that $\\phi^n = \\phi^{n-1} + \\phi^{n-2}$ and $\\ov{\\phi}{;}\\vphantom{}^n = \\ov{\\phi}{;}\\vphantom{}^{n-1} + \\ov{\\phi}{;}\\vphantom{}^{n-2}$, so $S_n = \\phi^n$ and $S_n = \\ov{\\phi}{;}\\vphantom{}^n$ both solve the difference equation $S_n = S_{n-1} + S_{n-2}$. An arbitrary linear combination of these two solutions yields the general solution $S_n = C \\cdot \\phi^n + \\ov{C}{;} \\cdot\\ov{\\phi}{;}\\vphantom{}^n$.  \n",
    "\n",
    "To finish, let's perform step 3. A specific solution for a sequence can be determined by solving for $C$ and $\\ov{C}{;}$ using initial values. In the case of the Fibonacci sequence, we would like to find values for $C$ and $\\ov{C}{;}$ so that $F_n = C \\cdot \\phi^n + \\ov{C}{;} \\cdot \\ov{\\phi}{;}\\vphantom{}^n$. So use the known values of $F_1$ and $F_2$ to set up a system of linear equations:    \n",
    "$$\\begin{align}\n",
    "F_1&=1 \\text{ so set } C \\cdot \\phi^1 + \\ov{C}{;}\\cdot\\ov{\\phi}{;}\\vphantom{}^1=1 \\text{ and}\\\\\n",
    "F_2&=1 \\text{ so set } C \\cdot \\phi^2 + \\ov{C}{;}\\cdot\\ov{\\phi}{;}\\vphantom{}^2=1.\n",
    "\\end{align}$$  \n",
    "\n",
    "In the notation of linear algebra, this equation system may be written as  \n",
    "$$ \\begin{bmatrix}\n",
    "\\phi & \\ov{\\phi}{;} \\\\\n",
    "\\phi^2 & \\ov{\\phi}{;}\\vphantom{}^2 \n",
    "\\end{bmatrix}  \n",
    "\\begin{bmatrix}\n",
    "C \\\\\n",
    "\\ov{C}{;}\n",
    "\\end{bmatrix} =\n",
    "\\begin{bmatrix}\n",
    "1 \\\\\n",
    "1\n",
    "\\end{bmatrix}.$$  \n",
    "Python's sympy can solve this system symbolically and tell us what $C$ and $\\ov{C}{;}$ are:"
   ]
  },
  {
   "cell_type": "code",
   "execution_count": 13,
   "id": "d857d139-f3e5-4299-904d-ed5aba91f83d",
   "metadata": {},
   "outputs": [
    {
     "data": {
      "text/latex": [
       "$\\displaystyle \\left[\\begin{matrix}C\\\\\\overline{C}\\end{matrix}\\right] = \\left[\\begin{matrix}\\frac{\\sqrt{5}}{5}\\\\- \\frac{\\sqrt{5}}{5}\\end{matrix}\\right]$"
      ],
      "text/plain": [
       "Eq(Matrix([\n",
       "[           C],\n",
       "[\\overline{C}]]), Matrix([\n",
       "[ sqrt(5)/5],\n",
       "[-sqrt(5)/5]]))"
      ]
     },
     "metadata": {},
     "output_type": "display_data"
    }
   ],
   "source": [
    "# Solve for the coefficients C and Cbar in the formula for Fibonacci numbers.\n",
    "import sympy as sym\n",
    "from sympy.matrices import Matrix as mat\n",
    "\n",
    "phi = (1+sym.sqrt(5))/2\n",
    "phibar = 1-phi\n",
    "#initial values of the Fibonacci sequence\n",
    "S1 = 1\n",
    "S2 = 1\n",
    "\n",
    "M = mat([[phi, phibar], [phi ** 2, phibar ** 2]])\n",
    "b = mat(2, 1, [S1, S2])\n",
    "c, cbar = sym.symbols(r'C, \\overline{C}')\n",
    "cvec = mat(2, 1, [c, cbar])\n",
    "\n",
    "display(sym.Eq(cvec, (M.solve(b)).applyfunc(sym.simplify)))"
   ]
  },
  {
   "cell_type": "markdown",
   "id": "12be20ae-542f-4a4a-86f3-0c5ff29fbbb0",
   "metadata": {},
   "source": [
    "Therefore, the specific solution for Fibonacci numbers is:  \n",
    "$F_n = \\frac{\\sqrt5}{5} \\phi^n - \\frac{\\sqrt5}{5} \\ov{\\phi}{;}\\vphantom{}^n $,  \n",
    "which can be rewritten as  \n",
    "$F_n = \\frac{\\phi^n - \\ov{\\phi}{;}\\vphantom{}^n}{\\sqrt5} $.  \n",
    "This formula is known as the Binet formula, attributed to Jaques Binet who used it in the 19th century.  \n",
    "Note that $|\\ov{\\phi}{;}| < 1$ so that $\\ov{\\phi}{;}\\vphantom{}^n$ goes to $0$ as $n$ grows, yielding the approximate formula we saw earlier, $F_n \\approx \\frac{\\phi^n }{\\sqrt5} $. This illustrates why the ratio of successive terms approximates $\\phi$. We now have an explain for why $\\sqrt 5$ appears in the formula.  \n",
    "\n",
    "Let's repeat the exercise to derive a formula for Lucas numbers:"
   ]
  },
  {
   "cell_type": "code",
   "execution_count": 14,
   "id": "f7500311-3aa5-4570-9975-5126dc1d4b1d",
   "metadata": {},
   "outputs": [
    {
     "data": {
      "text/latex": [
       "$\\displaystyle \\left[\\begin{matrix}C\\\\\\overline{C}\\end{matrix}\\right] = \\left[\\begin{matrix}1\\\\1\\end{matrix}\\right]$"
      ],
      "text/plain": [
       "Eq(Matrix([\n",
       "[           C],\n",
       "[\\overline{C}]]), Matrix([\n",
       "[1],\n",
       "[1]]))"
      ]
     },
     "metadata": {},
     "output_type": "display_data"
    }
   ],
   "source": [
    "# Solve for the coefficients C and Cbar in the formula for Lucas numbers.\n",
    "#initial values of the Lucas sequence\n",
    "S1 = 1\n",
    "S2 = 3\n",
    "\n",
    "b = mat(2, 1, [S1, S2])\n",
    "display(sym.Eq(cvec, (M.solve(b)).applyfunc(sym.simplify)))"
   ]
  },
  {
   "cell_type": "markdown",
   "id": "3b919d4e-4bbb-4acb-909c-09c0db2906f6",
   "metadata": {},
   "source": [
    "The coefficients for Lucas numbers are both one! The Lucas sequence formula is simply:  \n",
    "$$L_n = \\phi^n + \\ov{\\phi}{;}\\vphantom{}^n .$$  \n",
    "\n",
    "Just for the sake of my curiosity, I'd like to find the formula for the sequence I invented earlier with $S_1 = 42$ and $S_2 = 34$:"
   ]
  },
  {
   "cell_type": "code",
   "execution_count": 15,
   "id": "914eff14-e476-47c6-a8a7-b0c3cafeaeef",
   "metadata": {},
   "outputs": [
    {
     "data": {
      "text/latex": [
       "$\\displaystyle \\left[\\begin{matrix}C\\\\\\overline{C}\\end{matrix}\\right] = \\left[\\begin{matrix}-4 + \\frac{46 \\sqrt{5}}{5}\\\\- \\frac{46 \\sqrt{5}}{5} - 4\\end{matrix}\\right]$"
      ],
      "text/plain": [
       "Eq(Matrix([\n",
       "[           C],\n",
       "[\\overline{C}]]), Matrix([\n",
       "[-4 + 46*sqrt(5)/5],\n",
       "[-46*sqrt(5)/5 - 4]]))"
      ]
     },
     "metadata": {},
     "output_type": "display_data"
    },
    {
     "data": {
      "text/latex": [
       "$\\displaystyle \\left[\\begin{matrix}C\\\\\\overline{C}\\end{matrix}\\right] = \\left[\\begin{matrix}16.5718253929981\\\\-24.5718253929981\\end{matrix}\\right]$"
      ],
      "text/plain": [
       "Eq(Matrix([\n",
       "[           C],\n",
       "[\\overline{C}]]), Matrix([\n",
       "[ 16.5718253929981],\n",
       "[-24.5718253929981]]))"
      ]
     },
     "metadata": {},
     "output_type": "display_data"
    }
   ],
   "source": [
    "# Solve for the coefficients C and Cbar in the formula for Pearson numbers.\n",
    "#initial values of the sequence\n",
    "S1 = 42\n",
    "S2 = 34\n",
    "\n",
    "b = mat(2, 1, [S1, S2])\n",
    "display(sym.Eq(cvec, (M.solve(b)).applyfunc(sym.simplify)))\n",
    "display(sym.Eq(cvec, (M.solve(b)).evalf()))\n"
   ]
  },
  {
   "cell_type": "markdown",
   "id": "09efb00d-f80f-4bc4-abfb-f097b941ef04",
   "metadata": {},
   "source": [
    "Note that Sympy can solve difference equations directly:"
   ]
  },
  {
   "cell_type": "code",
   "execution_count": 16,
   "id": "8d189f74-9f5d-49e5-8488-796daa606205",
   "metadata": {},
   "outputs": [
    {
     "name": "stdout",
     "output_type": "stream",
     "text": [
      "The Binet formula:\n"
     ]
    },
    {
     "data": {
      "text/latex": [
       "$\\displaystyle - \\frac{\\sqrt{5} \\left(\\frac{1}{2} - \\frac{\\sqrt{5}}{2}\\right)^{n}}{5} + \\frac{\\sqrt{5} \\left(\\frac{1}{2} + \\frac{\\sqrt{5}}{2}\\right)^{n}}{5}$"
      ],
      "text/plain": [
       "-sqrt(5)*(1/2 - sqrt(5)/2)**n/5 + sqrt(5)*(1/2 + sqrt(5)/2)**n/5"
      ]
     },
     "metadata": {},
     "output_type": "display_data"
    },
    {
     "name": "stdout",
     "output_type": "stream",
     "text": [
      "The 20th Fibonacci number using the Binet formula:\n"
     ]
    },
    {
     "data": {
      "text/latex": [
       "$\\displaystyle - \\frac{\\sqrt{5} \\left(\\frac{1}{2} - \\frac{\\sqrt{5}}{2}\\right)^{20}}{5} + \\frac{\\sqrt{5} \\left(\\frac{1}{2} + \\frac{\\sqrt{5}}{2}\\right)^{20}}{5} = 6765$"
      ],
      "text/plain": [
       "Eq(-sqrt(5)*(1/2 - sqrt(5)/2)**20/5 + sqrt(5)*(1/2 + sqrt(5)/2)**20/5, 6765)"
      ]
     },
     "metadata": {},
     "output_type": "display_data"
    },
    {
     "name": "stdout",
     "output_type": "stream",
     "text": [
      "The 20th Lucas number using the explicit formula:\n"
     ]
    },
    {
     "data": {
      "text/latex": [
       "$\\displaystyle \\left(\\frac{1}{2} - \\frac{\\sqrt{5}}{2}\\right)^{20} + \\left(\\frac{1}{2} + \\frac{\\sqrt{5}}{2}\\right)^{20} = 15127$"
      ],
      "text/plain": [
       "Eq((1/2 - sqrt(5)/2)**20 + (1/2 + sqrt(5)/2)**20, 15127)"
      ]
     },
     "metadata": {},
     "output_type": "display_data"
    },
    {
     "name": "stdout",
     "output_type": "stream",
     "text": [
      "The 20th Pearson number using the explicit formula:\n"
     ]
    },
    {
     "data": {
      "text/latex": [
       "$\\displaystyle \\left(\\frac{1}{2} - \\frac{\\sqrt{5}}{2}\\right)^{20} \\left(- \\frac{46 \\sqrt{5}}{5} - 4\\right) + \\left(-4 + \\frac{46 \\sqrt{5}}{5}\\right) \\left(\\frac{1}{2} + \\frac{\\sqrt{5}}{2}\\right)^{20} = 250682$"
      ],
      "text/plain": [
       "Eq((1/2 - sqrt(5)/2)**20*(-46*sqrt(5)/5 - 4) + (-4 + 46*sqrt(5)/5)*(1/2 + sqrt(5)/2)**20, 250682)"
      ]
     },
     "metadata": {},
     "output_type": "display_data"
    }
   ],
   "source": [
    "n = sym.Symbol('n')\n",
    "f = sym.Function('f')\n",
    "series = f(n) - f(n-1) - f(n-2)\n",
    "\n",
    "soln1 = sym.rsolve(series, f(n), {f(1): 1, f(2): 1}) #Solving Fibonacci\n",
    "print('The Binet formula:')\n",
    "display(soln1)\n",
    "print('The 20th Fibonacci number using the Binet formula:')\n",
    "F20 = soln1.subs(n,20).simplify()\n",
    "display(sym.Eq(soln1.subs(n,20), F20, evaluate=False))\n",
    "    \n",
    "soln2 = sym.rsolve(series, f(n), {f(1): 1, f(2): 3}) #Solving Lucas\n",
    "print('The 20th Lucas number using the explicit formula:')\n",
    "L20 = soln2.subs(n,20).simplify()\n",
    "display(sym.Eq(soln2.subs(n,20), L20, evaluate=False))\n",
    "    \n",
    "soln3 = sym.rsolve(series, f(n), {f(1): 42, f(2): 34}) #Solving Pearson\n",
    "print('The 20th Pearson number using the explicit formula:')\n",
    "P20 = soln3.subs(n,20).simplify()\n",
    "display(sym.Eq(soln3.subs(n,20), P20, evaluate=False))"
   ]
  },
  {
   "cell_type": "code",
   "execution_count": null,
   "id": "247f959b-5198-4925-aed2-76d360115bf0",
   "metadata": {},
   "outputs": [],
   "source": []
  }
 ],
 "metadata": {
  "kernelspec": {
   "display_name": "Python 3 (ipykernel)",
   "language": "python",
   "name": "python3"
  },
  "language_info": {
   "codemirror_mode": {
    "name": "ipython",
    "version": 3
   },
   "file_extension": ".py",
   "mimetype": "text/x-python",
   "name": "python",
   "nbconvert_exporter": "python",
   "pygments_lexer": "ipython3",
   "version": "3.10.9"
  }
 },
 "nbformat": 4,
 "nbformat_minor": 5
}
